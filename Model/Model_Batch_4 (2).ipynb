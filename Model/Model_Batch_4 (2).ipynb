{
 "cells": [
  {
   "cell_type": "code",
   "execution_count": 1,
   "id": "c8a29559",
   "metadata": {},
   "outputs": [],
   "source": [
    "import numpy as np\n",
    "import pandas as pd\n",
    "import matplotlib.pyplot as plt"
   ]
  },
  {
   "cell_type": "code",
   "execution_count": 2,
   "id": "3f6d0006",
   "metadata": {},
   "outputs": [],
   "source": [
    "import torch\n",
    "from torchvision import datasets, transforms, models  # datsets  , transforms\n",
    "from torch.utils.data.sampler import SubsetRandomSampler\n",
    "import torch.nn as nn\n",
    "import torch.nn.functional as F\n",
    "from datetime import datetime"
   ]
  },
  {
   "cell_type": "code",
   "execution_count": 3,
   "id": "c525e7b6",
   "metadata": {},
   "outputs": [
    {
     "data": {
      "application/javascript": [
       "\n",
       "            setTimeout(function() {\n",
       "                var nbb_cell_id = 3;\n",
       "                var nbb_unformatted_code = \"%load_ext nb_black\";\n",
       "                var nbb_formatted_code = \"%load_ext nb_black\";\n",
       "                var nbb_cells = Jupyter.notebook.get_cells();\n",
       "                for (var i = 0; i < nbb_cells.length; ++i) {\n",
       "                    if (nbb_cells[i].input_prompt_number == nbb_cell_id) {\n",
       "                        if (nbb_cells[i].get_text() == nbb_unformatted_code) {\n",
       "                             nbb_cells[i].set_text(nbb_formatted_code);\n",
       "                        }\n",
       "                        break;\n",
       "                    }\n",
       "                }\n",
       "            }, 500);\n",
       "            "
      ],
      "text/plain": [
       "<IPython.core.display.Javascript object>"
      ]
     },
     "metadata": {},
     "output_type": "display_data"
    }
   ],
   "source": [
    "%load_ext nb_black"
   ]
  },
  {
   "cell_type": "code",
   "execution_count": 4,
   "id": "6094408e",
   "metadata": {},
   "outputs": [
    {
     "data": {
      "application/javascript": [
       "\n",
       "            setTimeout(function() {\n",
       "                var nbb_cell_id = 4;\n",
       "                var nbb_unformatted_code = \"transform = transforms.Compose(\\n    [transforms.Resize(255), transforms.CenterCrop(224), transforms.ToTensor()]\\n)\";\n",
       "                var nbb_formatted_code = \"transform = transforms.Compose(\\n    [transforms.Resize(255), transforms.CenterCrop(224), transforms.ToTensor()]\\n)\";\n",
       "                var nbb_cells = Jupyter.notebook.get_cells();\n",
       "                for (var i = 0; i < nbb_cells.length; ++i) {\n",
       "                    if (nbb_cells[i].input_prompt_number == nbb_cell_id) {\n",
       "                        if (nbb_cells[i].get_text() == nbb_unformatted_code) {\n",
       "                             nbb_cells[i].set_text(nbb_formatted_code);\n",
       "                        }\n",
       "                        break;\n",
       "                    }\n",
       "                }\n",
       "            }, 500);\n",
       "            "
      ],
      "text/plain": [
       "<IPython.core.display.Javascript object>"
      ]
     },
     "metadata": {},
     "output_type": "display_data"
    }
   ],
   "source": [
    "transform = transforms.Compose(\n",
    "    [transforms.Resize(255), transforms.CenterCrop(224), transforms.ToTensor()]\n",
    ")"
   ]
  },
  {
   "cell_type": "code",
   "execution_count": 5,
   "id": "d5abb8e3",
   "metadata": {},
   "outputs": [
    {
     "data": {
      "application/javascript": [
       "\n",
       "            setTimeout(function() {\n",
       "                var nbb_cell_id = 5;\n",
       "                var nbb_unformatted_code = \"dataset = datasets.ImageFolder(\\\"Dataset\\\", transform=transform)\";\n",
       "                var nbb_formatted_code = \"dataset = datasets.ImageFolder(\\\"Dataset\\\", transform=transform)\";\n",
       "                var nbb_cells = Jupyter.notebook.get_cells();\n",
       "                for (var i = 0; i < nbb_cells.length; ++i) {\n",
       "                    if (nbb_cells[i].input_prompt_number == nbb_cell_id) {\n",
       "                        if (nbb_cells[i].get_text() == nbb_unformatted_code) {\n",
       "                             nbb_cells[i].set_text(nbb_formatted_code);\n",
       "                        }\n",
       "                        break;\n",
       "                    }\n",
       "                }\n",
       "            }, 500);\n",
       "            "
      ],
      "text/plain": [
       "<IPython.core.display.Javascript object>"
      ]
     },
     "metadata": {},
     "output_type": "display_data"
    }
   ],
   "source": [
    "dataset = datasets.ImageFolder(\"Dataset\", transform=transform)"
   ]
  },
  {
   "cell_type": "code",
   "execution_count": 6,
   "id": "365f2949",
   "metadata": {},
   "outputs": [
    {
     "data": {
      "text/plain": [
       "Dataset ImageFolder\n",
       "    Number of datapoints: 61486\n",
       "    Root location: Dataset\n",
       "    StandardTransform\n",
       "Transform: Compose(\n",
       "               Resize(size=255, interpolation=bilinear, max_size=None, antialias=warn)\n",
       "               CenterCrop(size=(224, 224))\n",
       "               ToTensor()\n",
       "           )"
      ]
     },
     "execution_count": 6,
     "metadata": {},
     "output_type": "execute_result"
    },
    {
     "data": {
      "application/javascript": [
       "\n",
       "            setTimeout(function() {\n",
       "                var nbb_cell_id = 6;\n",
       "                var nbb_unformatted_code = \"dataset\";\n",
       "                var nbb_formatted_code = \"dataset\";\n",
       "                var nbb_cells = Jupyter.notebook.get_cells();\n",
       "                for (var i = 0; i < nbb_cells.length; ++i) {\n",
       "                    if (nbb_cells[i].input_prompt_number == nbb_cell_id) {\n",
       "                        if (nbb_cells[i].get_text() == nbb_unformatted_code) {\n",
       "                             nbb_cells[i].set_text(nbb_formatted_code);\n",
       "                        }\n",
       "                        break;\n",
       "                    }\n",
       "                }\n",
       "            }, 500);\n",
       "            "
      ],
      "text/plain": [
       "<IPython.core.display.Javascript object>"
      ]
     },
     "metadata": {},
     "output_type": "display_data"
    }
   ],
   "source": [
    "dataset\n"
   ]
  },
  {
   "cell_type": "code",
   "execution_count": 78,
   "id": "8cd544dc",
   "metadata": {},
   "outputs": [
    {
     "data": {
      "application/javascript": [
       "\n",
       "            setTimeout(function() {\n",
       "                var nbb_cell_id = 78;\n",
       "                var nbb_unformatted_code = \"indices = list(range(len(dataset)))\";\n",
       "                var nbb_formatted_code = \"indices = list(range(len(dataset)))\";\n",
       "                var nbb_cells = Jupyter.notebook.get_cells();\n",
       "                for (var i = 0; i < nbb_cells.length; ++i) {\n",
       "                    if (nbb_cells[i].input_prompt_number == nbb_cell_id) {\n",
       "                        if (nbb_cells[i].get_text() == nbb_unformatted_code) {\n",
       "                             nbb_cells[i].set_text(nbb_formatted_code);\n",
       "                        }\n",
       "                        break;\n",
       "                    }\n",
       "                }\n",
       "            }, 500);\n",
       "            "
      ],
      "text/plain": [
       "<IPython.core.display.Javascript object>"
      ]
     },
     "metadata": {},
     "output_type": "display_data"
    }
   ],
   "source": [
    "indices = list(range(len(dataset)))\n"
   ]
  },
  {
   "cell_type": "code",
   "execution_count": 8,
   "id": "0408f81f",
   "metadata": {},
   "outputs": [
    {
     "data": {
      "text/plain": [
       "52263"
      ]
     },
     "execution_count": 8,
     "metadata": {},
     "output_type": "execute_result"
    },
    {
     "data": {
      "application/javascript": [
       "\n",
       "            setTimeout(function() {\n",
       "                var nbb_cell_id = 8;\n",
       "                var nbb_unformatted_code = \"split = int(np.floor(0.85 * len(dataset)))  # train_size\\nsplit\";\n",
       "                var nbb_formatted_code = \"split = int(np.floor(0.85 * len(dataset)))  # train_size\\nsplit\";\n",
       "                var nbb_cells = Jupyter.notebook.get_cells();\n",
       "                for (var i = 0; i < nbb_cells.length; ++i) {\n",
       "                    if (nbb_cells[i].input_prompt_number == nbb_cell_id) {\n",
       "                        if (nbb_cells[i].get_text() == nbb_unformatted_code) {\n",
       "                             nbb_cells[i].set_text(nbb_formatted_code);\n",
       "                        }\n",
       "                        break;\n",
       "                    }\n",
       "                }\n",
       "            }, 500);\n",
       "            "
      ],
      "text/plain": [
       "<IPython.core.display.Javascript object>"
      ]
     },
     "metadata": {},
     "output_type": "display_data"
    }
   ],
   "source": [
    "split = int(np.floor(0.85 * len(dataset)))  # train_size\n",
    "split"
   ]
  },
  {
   "cell_type": "code",
   "execution_count": 9,
   "id": "52b1459b",
   "metadata": {},
   "outputs": [
    {
     "data": {
      "text/plain": [
       "36584"
      ]
     },
     "execution_count": 9,
     "metadata": {},
     "output_type": "execute_result"
    },
    {
     "data": {
      "application/javascript": [
       "\n",
       "            setTimeout(function() {\n",
       "                var nbb_cell_id = 9;\n",
       "                var nbb_unformatted_code = \"validation = int(np.floor(0.70 * split))  # validation\\nvalidation\";\n",
       "                var nbb_formatted_code = \"validation = int(np.floor(0.70 * split))  # validation\\nvalidation\";\n",
       "                var nbb_cells = Jupyter.notebook.get_cells();\n",
       "                for (var i = 0; i < nbb_cells.length; ++i) {\n",
       "                    if (nbb_cells[i].input_prompt_number == nbb_cell_id) {\n",
       "                        if (nbb_cells[i].get_text() == nbb_unformatted_code) {\n",
       "                             nbb_cells[i].set_text(nbb_formatted_code);\n",
       "                        }\n",
       "                        break;\n",
       "                    }\n",
       "                }\n",
       "            }, 500);\n",
       "            "
      ],
      "text/plain": [
       "<IPython.core.display.Javascript object>"
      ]
     },
     "metadata": {},
     "output_type": "display_data"
    }
   ],
   "source": [
    "validation = int(np.floor(0.70 * split))  # validation\n",
    "validation"
   ]
  },
  {
   "cell_type": "code",
   "execution_count": 10,
   "id": "af91c21b",
   "metadata": {},
   "outputs": [
    {
     "name": "stdout",
     "output_type": "stream",
     "text": [
      "0 36584 52263 61486\n"
     ]
    },
    {
     "data": {
      "application/javascript": [
       "\n",
       "            setTimeout(function() {\n",
       "                var nbb_cell_id = 10;\n",
       "                var nbb_unformatted_code = \"print(0, validation, split, len(dataset))\";\n",
       "                var nbb_formatted_code = \"print(0, validation, split, len(dataset))\";\n",
       "                var nbb_cells = Jupyter.notebook.get_cells();\n",
       "                for (var i = 0; i < nbb_cells.length; ++i) {\n",
       "                    if (nbb_cells[i].input_prompt_number == nbb_cell_id) {\n",
       "                        if (nbb_cells[i].get_text() == nbb_unformatted_code) {\n",
       "                             nbb_cells[i].set_text(nbb_formatted_code);\n",
       "                        }\n",
       "                        break;\n",
       "                    }\n",
       "                }\n",
       "            }, 500);\n",
       "            "
      ],
      "text/plain": [
       "<IPython.core.display.Javascript object>"
      ]
     },
     "metadata": {},
     "output_type": "display_data"
    }
   ],
   "source": [
    "print(0, validation, split, len(dataset))"
   ]
  },
  {
   "cell_type": "code",
   "execution_count": 11,
   "id": "889df3f0",
   "metadata": {},
   "outputs": [
    {
     "name": "stdout",
     "output_type": "stream",
     "text": [
      "length of train size :36584\n",
      "length of validation size :15679\n",
      "length of test size :24902\n"
     ]
    },
    {
     "data": {
      "application/javascript": [
       "\n",
       "            setTimeout(function() {\n",
       "                var nbb_cell_id = 11;\n",
       "                var nbb_unformatted_code = \"print(f\\\"length of train size :{validation}\\\")\\nprint(f\\\"length of validation size :{split - validation}\\\")\\nprint(f\\\"length of test size :{len(dataset)-validation}\\\")\";\n",
       "                var nbb_formatted_code = \"print(f\\\"length of train size :{validation}\\\")\\nprint(f\\\"length of validation size :{split - validation}\\\")\\nprint(f\\\"length of test size :{len(dataset)-validation}\\\")\";\n",
       "                var nbb_cells = Jupyter.notebook.get_cells();\n",
       "                for (var i = 0; i < nbb_cells.length; ++i) {\n",
       "                    if (nbb_cells[i].input_prompt_number == nbb_cell_id) {\n",
       "                        if (nbb_cells[i].get_text() == nbb_unformatted_code) {\n",
       "                             nbb_cells[i].set_text(nbb_formatted_code);\n",
       "                        }\n",
       "                        break;\n",
       "                    }\n",
       "                }\n",
       "            }, 500);\n",
       "            "
      ],
      "text/plain": [
       "<IPython.core.display.Javascript object>"
      ]
     },
     "metadata": {},
     "output_type": "display_data"
    }
   ],
   "source": [
    "print(f\"length of train size :{validation}\")\n",
    "print(f\"length of validation size :{split - validation}\")\n",
    "print(f\"length of test size :{len(dataset)-validation}\")\n"
   ]
  },
  {
   "cell_type": "code",
   "execution_count": 12,
   "id": "3df22053",
   "metadata": {},
   "outputs": [
    {
     "data": {
      "application/javascript": [
       "\n",
       "            setTimeout(function() {\n",
       "                var nbb_cell_id = 12;\n",
       "                var nbb_unformatted_code = \"np.random.shuffle(indices)\";\n",
       "                var nbb_formatted_code = \"np.random.shuffle(indices)\";\n",
       "                var nbb_cells = Jupyter.notebook.get_cells();\n",
       "                for (var i = 0; i < nbb_cells.length; ++i) {\n",
       "                    if (nbb_cells[i].input_prompt_number == nbb_cell_id) {\n",
       "                        if (nbb_cells[i].get_text() == nbb_unformatted_code) {\n",
       "                             nbb_cells[i].set_text(nbb_formatted_code);\n",
       "                        }\n",
       "                        break;\n",
       "                    }\n",
       "                }\n",
       "            }, 500);\n",
       "            "
      ],
      "text/plain": [
       "<IPython.core.display.Javascript object>"
      ]
     },
     "metadata": {},
     "output_type": "display_data"
    }
   ],
   "source": [
    "np.random.shuffle(indices)"
   ]
  },
  {
   "cell_type": "code",
   "execution_count": 13,
   "id": "10a96ff9",
   "metadata": {},
   "outputs": [
    {
     "data": {
      "application/javascript": [
       "\n",
       "            setTimeout(function() {\n",
       "                var nbb_cell_id = 13;\n",
       "                var nbb_unformatted_code = \"train_indices, validation_indices, test_indices = (\\n    indices[:validation],\\n    indices[validation:split],\\n    indices[split:],\\n)\";\n",
       "                var nbb_formatted_code = \"train_indices, validation_indices, test_indices = (\\n    indices[:validation],\\n    indices[validation:split],\\n    indices[split:],\\n)\";\n",
       "                var nbb_cells = Jupyter.notebook.get_cells();\n",
       "                for (var i = 0; i < nbb_cells.length; ++i) {\n",
       "                    if (nbb_cells[i].input_prompt_number == nbb_cell_id) {\n",
       "                        if (nbb_cells[i].get_text() == nbb_unformatted_code) {\n",
       "                             nbb_cells[i].set_text(nbb_formatted_code);\n",
       "                        }\n",
       "                        break;\n",
       "                    }\n",
       "                }\n",
       "            }, 500);\n",
       "            "
      ],
      "text/plain": [
       "<IPython.core.display.Javascript object>"
      ]
     },
     "metadata": {},
     "output_type": "display_data"
    }
   ],
   "source": [
    "train_indices, validation_indices, test_indices = (\n",
    "    indices[:validation],\n",
    "    indices[validation:split],\n",
    "    indices[split:],\n",
    ")"
   ]
  },
  {
   "cell_type": "code",
   "execution_count": 14,
   "id": "bc76a40f",
   "metadata": {},
   "outputs": [
    {
     "data": {
      "application/javascript": [
       "\n",
       "            setTimeout(function() {\n",
       "                var nbb_cell_id = 14;\n",
       "                var nbb_unformatted_code = \"train_sampler = SubsetRandomSampler(train_indices)\\nvalidation_sampler = SubsetRandomSampler(validation_indices)\\ntest_sampler = SubsetRandomSampler(test_indices)\";\n",
       "                var nbb_formatted_code = \"train_sampler = SubsetRandomSampler(train_indices)\\nvalidation_sampler = SubsetRandomSampler(validation_indices)\\ntest_sampler = SubsetRandomSampler(test_indices)\";\n",
       "                var nbb_cells = Jupyter.notebook.get_cells();\n",
       "                for (var i = 0; i < nbb_cells.length; ++i) {\n",
       "                    if (nbb_cells[i].input_prompt_number == nbb_cell_id) {\n",
       "                        if (nbb_cells[i].get_text() == nbb_unformatted_code) {\n",
       "                             nbb_cells[i].set_text(nbb_formatted_code);\n",
       "                        }\n",
       "                        break;\n",
       "                    }\n",
       "                }\n",
       "            }, 500);\n",
       "            "
      ],
      "text/plain": [
       "<IPython.core.display.Javascript object>"
      ]
     },
     "metadata": {},
     "output_type": "display_data"
    }
   ],
   "source": [
    "train_sampler = SubsetRandomSampler(train_indices)\n",
    "validation_sampler = SubsetRandomSampler(validation_indices)\n",
    "test_sampler = SubsetRandomSampler(test_indices)"
   ]
  },
  {
   "cell_type": "code",
   "execution_count": 15,
   "id": "5116e642",
   "metadata": {},
   "outputs": [
    {
     "data": {
      "text/plain": [
       "39"
      ]
     },
     "execution_count": 15,
     "metadata": {},
     "output_type": "execute_result"
    },
    {
     "data": {
      "application/javascript": [
       "\n",
       "            setTimeout(function() {\n",
       "                var nbb_cell_id = 15;\n",
       "                var nbb_unformatted_code = \"targets_size = len(dataset.class_to_idx)\\ntargets_size\";\n",
       "                var nbb_formatted_code = \"targets_size = len(dataset.class_to_idx)\\ntargets_size\";\n",
       "                var nbb_cells = Jupyter.notebook.get_cells();\n",
       "                for (var i = 0; i < nbb_cells.length; ++i) {\n",
       "                    if (nbb_cells[i].input_prompt_number == nbb_cell_id) {\n",
       "                        if (nbb_cells[i].get_text() == nbb_unformatted_code) {\n",
       "                             nbb_cells[i].set_text(nbb_formatted_code);\n",
       "                        }\n",
       "                        break;\n",
       "                    }\n",
       "                }\n",
       "            }, 500);\n",
       "            "
      ],
      "text/plain": [
       "<IPython.core.display.Javascript object>"
      ]
     },
     "metadata": {},
     "output_type": "display_data"
    }
   ],
   "source": [
    "targets_size = len(dataset.class_to_idx)\n",
    "targets_size"
   ]
  },
  {
   "cell_type": "code",
   "execution_count": 17,
   "id": "734a3545",
   "metadata": {},
   "outputs": [
    {
     "data": {
      "application/javascript": [
       "\n",
       "            setTimeout(function() {\n",
       "                var nbb_cell_id = 17;\n",
       "                var nbb_unformatted_code = \"class CNN(nn.Module):\\n    def __init__(self, K):\\n        super(CNN, self).__init__()\\n        self.conv_layers = nn.Sequential(\\n            # conv1\\n            nn.Conv2d(in_channels=3, out_channels=32, kernel_size=3, padding=1),\\n            nn.ReLU(),\\n            nn.BatchNorm2d(32),\\n            nn.Conv2d(in_channels=32, out_channels=32, kernel_size=3, padding=1),\\n            nn.ReLU(),\\n            nn.BatchNorm2d(32),\\n            nn.MaxPool2d(2),\\n            # conv2\\n            nn.Conv2d(in_channels=32, out_channels=64, kernel_size=3, padding=1),\\n            nn.ReLU(),\\n            nn.BatchNorm2d(64),\\n            nn.Conv2d(in_channels=64, out_channels=64, kernel_size=3, padding=1),\\n            nn.ReLU(),\\n            nn.BatchNorm2d(64),\\n            nn.MaxPool2d(2),\\n            # conv3\\n            nn.Conv2d(in_channels=64, out_channels=128, kernel_size=3, padding=1),\\n            nn.ReLU(),\\n            nn.BatchNorm2d(128),\\n            nn.Conv2d(in_channels=128, out_channels=128, kernel_size=3, padding=1),\\n            nn.ReLU(),\\n            nn.BatchNorm2d(128),\\n            nn.MaxPool2d(2),\\n            # conv4\\n            nn.Conv2d(in_channels=128, out_channels=256, kernel_size=3, padding=1),\\n            nn.ReLU(),\\n            nn.BatchNorm2d(256),\\n            nn.Conv2d(in_channels=256, out_channels=256, kernel_size=3, padding=1),\\n            nn.ReLU(),\\n            nn.BatchNorm2d(256),\\n            nn.MaxPool2d(2),\\n        )\\n\\n        self.dense_layers = nn.Sequential(\\n            nn.Dropout(0.4),\\n            nn.Linear(50176, 1024),\\n            nn.ReLU(),\\n            nn.Dropout(0.4),\\n            nn.Linear(1024, K),\\n        )\\n\\n    def forward(self, X):\\n        out = self.conv_layers(X)\\n\\n        # Flatten\\n        out = out.view(-1, 50176)\\n\\n        # Fully connected\\n        out = self.dense_layers(out)\\n\\n        return out\";\n",
       "                var nbb_formatted_code = \"class CNN(nn.Module):\\n    def __init__(self, K):\\n        super(CNN, self).__init__()\\n        self.conv_layers = nn.Sequential(\\n            # conv1\\n            nn.Conv2d(in_channels=3, out_channels=32, kernel_size=3, padding=1),\\n            nn.ReLU(),\\n            nn.BatchNorm2d(32),\\n            nn.Conv2d(in_channels=32, out_channels=32, kernel_size=3, padding=1),\\n            nn.ReLU(),\\n            nn.BatchNorm2d(32),\\n            nn.MaxPool2d(2),\\n            # conv2\\n            nn.Conv2d(in_channels=32, out_channels=64, kernel_size=3, padding=1),\\n            nn.ReLU(),\\n            nn.BatchNorm2d(64),\\n            nn.Conv2d(in_channels=64, out_channels=64, kernel_size=3, padding=1),\\n            nn.ReLU(),\\n            nn.BatchNorm2d(64),\\n            nn.MaxPool2d(2),\\n            # conv3\\n            nn.Conv2d(in_channels=64, out_channels=128, kernel_size=3, padding=1),\\n            nn.ReLU(),\\n            nn.BatchNorm2d(128),\\n            nn.Conv2d(in_channels=128, out_channels=128, kernel_size=3, padding=1),\\n            nn.ReLU(),\\n            nn.BatchNorm2d(128),\\n            nn.MaxPool2d(2),\\n            # conv4\\n            nn.Conv2d(in_channels=128, out_channels=256, kernel_size=3, padding=1),\\n            nn.ReLU(),\\n            nn.BatchNorm2d(256),\\n            nn.Conv2d(in_channels=256, out_channels=256, kernel_size=3, padding=1),\\n            nn.ReLU(),\\n            nn.BatchNorm2d(256),\\n            nn.MaxPool2d(2),\\n        )\\n\\n        self.dense_layers = nn.Sequential(\\n            nn.Dropout(0.4),\\n            nn.Linear(50176, 1024),\\n            nn.ReLU(),\\n            nn.Dropout(0.4),\\n            nn.Linear(1024, K),\\n        )\\n\\n    def forward(self, X):\\n        out = self.conv_layers(X)\\n\\n        # Flatten\\n        out = out.view(-1, 50176)\\n\\n        # Fully connected\\n        out = self.dense_layers(out)\\n\\n        return out\";\n",
       "                var nbb_cells = Jupyter.notebook.get_cells();\n",
       "                for (var i = 0; i < nbb_cells.length; ++i) {\n",
       "                    if (nbb_cells[i].input_prompt_number == nbb_cell_id) {\n",
       "                        if (nbb_cells[i].get_text() == nbb_unformatted_code) {\n",
       "                             nbb_cells[i].set_text(nbb_formatted_code);\n",
       "                        }\n",
       "                        break;\n",
       "                    }\n",
       "                }\n",
       "            }, 500);\n",
       "            "
      ],
      "text/plain": [
       "<IPython.core.display.Javascript object>"
      ]
     },
     "metadata": {},
     "output_type": "display_data"
    }
   ],
   "source": [
    "class CNN(nn.Module):\n",
    "    def __init__(self, K):\n",
    "        super(CNN, self).__init__()\n",
    "        self.conv_layers = nn.Sequential(\n",
    "            # conv1\n",
    "            nn.Conv2d(in_channels=3, out_channels=32, kernel_size=3, padding=1),\n",
    "            nn.ReLU(),\n",
    "            nn.BatchNorm2d(32),\n",
    "            nn.Conv2d(in_channels=32, out_channels=32, kernel_size=3, padding=1),\n",
    "            nn.ReLU(),\n",
    "            nn.BatchNorm2d(32),\n",
    "            nn.MaxPool2d(2),\n",
    "            # conv2\n",
    "            nn.Conv2d(in_channels=32, out_channels=64, kernel_size=3, padding=1),\n",
    "            nn.ReLU(),\n",
    "            nn.BatchNorm2d(64),\n",
    "            nn.Conv2d(in_channels=64, out_channels=64, kernel_size=3, padding=1),\n",
    "            nn.ReLU(),\n",
    "            nn.BatchNorm2d(64),\n",
    "            nn.MaxPool2d(2),\n",
    "            # conv3\n",
    "            nn.Conv2d(in_channels=64, out_channels=128, kernel_size=3, padding=1),\n",
    "            nn.ReLU(),\n",
    "            nn.BatchNorm2d(128),\n",
    "            nn.Conv2d(in_channels=128, out_channels=128, kernel_size=3, padding=1),\n",
    "            nn.ReLU(),\n",
    "            nn.BatchNorm2d(128),\n",
    "            nn.MaxPool2d(2),\n",
    "            # conv4\n",
    "            nn.Conv2d(in_channels=128, out_channels=256, kernel_size=3, padding=1),\n",
    "            nn.ReLU(),\n",
    "            nn.BatchNorm2d(256),\n",
    "            nn.Conv2d(in_channels=256, out_channels=256, kernel_size=3, padding=1),\n",
    "            nn.ReLU(),\n",
    "            nn.BatchNorm2d(256),\n",
    "            nn.MaxPool2d(2),\n",
    "        )\n",
    "\n",
    "        self.dense_layers = nn.Sequential(\n",
    "            nn.Dropout(0.4),\n",
    "            nn.Linear(50176, 1024),\n",
    "            nn.ReLU(),\n",
    "            nn.Dropout(0.4),\n",
    "            nn.Linear(1024, K),\n",
    "        )\n",
    "\n",
    "    def forward(self, X):\n",
    "        out = self.conv_layers(X)\n",
    "\n",
    "        # Flatten\n",
    "        out = out.view(-1, 50176)\n",
    "\n",
    "        # Fully connected\n",
    "        out = self.dense_layers(out)\n",
    "\n",
    "        return out"
   ]
  },
  {
   "cell_type": "code",
   "execution_count": 18,
   "id": "e2ba19bd",
   "metadata": {},
   "outputs": [
    {
     "name": "stdout",
     "output_type": "stream",
     "text": [
      "cpu\n"
     ]
    },
    {
     "data": {
      "application/javascript": [
       "\n",
       "            setTimeout(function() {\n",
       "                var nbb_cell_id = 18;\n",
       "                var nbb_unformatted_code = \"device = torch.device(\\\"cuda\\\" if torch.cuda.is_available() else \\\"cpu\\\")\\nprint(device)\";\n",
       "                var nbb_formatted_code = \"device = torch.device(\\\"cuda\\\" if torch.cuda.is_available() else \\\"cpu\\\")\\nprint(device)\";\n",
       "                var nbb_cells = Jupyter.notebook.get_cells();\n",
       "                for (var i = 0; i < nbb_cells.length; ++i) {\n",
       "                    if (nbb_cells[i].input_prompt_number == nbb_cell_id) {\n",
       "                        if (nbb_cells[i].get_text() == nbb_unformatted_code) {\n",
       "                             nbb_cells[i].set_text(nbb_formatted_code);\n",
       "                        }\n",
       "                        break;\n",
       "                    }\n",
       "                }\n",
       "            }, 500);\n",
       "            "
      ],
      "text/plain": [
       "<IPython.core.display.Javascript object>"
      ]
     },
     "metadata": {},
     "output_type": "display_data"
    }
   ],
   "source": [
    "device = torch.device(\"cuda\" if torch.cuda.is_available() else \"cpu\")\n",
    "print(device)"
   ]
  },
  {
   "cell_type": "code",
   "execution_count": 19,
   "id": "c48af225",
   "metadata": {},
   "outputs": [
    {
     "data": {
      "application/javascript": [
       "\n",
       "            setTimeout(function() {\n",
       "                var nbb_cell_id = 19;\n",
       "                var nbb_unformatted_code = \"device = \\\"cpu\\\"\";\n",
       "                var nbb_formatted_code = \"device = \\\"cpu\\\"\";\n",
       "                var nbb_cells = Jupyter.notebook.get_cells();\n",
       "                for (var i = 0; i < nbb_cells.length; ++i) {\n",
       "                    if (nbb_cells[i].input_prompt_number == nbb_cell_id) {\n",
       "                        if (nbb_cells[i].get_text() == nbb_unformatted_code) {\n",
       "                             nbb_cells[i].set_text(nbb_formatted_code);\n",
       "                        }\n",
       "                        break;\n",
       "                    }\n",
       "                }\n",
       "            }, 500);\n",
       "            "
      ],
      "text/plain": [
       "<IPython.core.display.Javascript object>"
      ]
     },
     "metadata": {},
     "output_type": "display_data"
    }
   ],
   "source": [
    "device = \"cpu\""
   ]
  },
  {
   "cell_type": "code",
   "execution_count": 20,
   "id": "e61c67aa",
   "metadata": {},
   "outputs": [
    {
     "data": {
      "text/plain": [
       "CNN(\n",
       "  (conv_layers): Sequential(\n",
       "    (0): Conv2d(3, 32, kernel_size=(3, 3), stride=(1, 1), padding=(1, 1))\n",
       "    (1): ReLU()\n",
       "    (2): BatchNorm2d(32, eps=1e-05, momentum=0.1, affine=True, track_running_stats=True)\n",
       "    (3): Conv2d(32, 32, kernel_size=(3, 3), stride=(1, 1), padding=(1, 1))\n",
       "    (4): ReLU()\n",
       "    (5): BatchNorm2d(32, eps=1e-05, momentum=0.1, affine=True, track_running_stats=True)\n",
       "    (6): MaxPool2d(kernel_size=2, stride=2, padding=0, dilation=1, ceil_mode=False)\n",
       "    (7): Conv2d(32, 64, kernel_size=(3, 3), stride=(1, 1), padding=(1, 1))\n",
       "    (8): ReLU()\n",
       "    (9): BatchNorm2d(64, eps=1e-05, momentum=0.1, affine=True, track_running_stats=True)\n",
       "    (10): Conv2d(64, 64, kernel_size=(3, 3), stride=(1, 1), padding=(1, 1))\n",
       "    (11): ReLU()\n",
       "    (12): BatchNorm2d(64, eps=1e-05, momentum=0.1, affine=True, track_running_stats=True)\n",
       "    (13): MaxPool2d(kernel_size=2, stride=2, padding=0, dilation=1, ceil_mode=False)\n",
       "    (14): Conv2d(64, 128, kernel_size=(3, 3), stride=(1, 1), padding=(1, 1))\n",
       "    (15): ReLU()\n",
       "    (16): BatchNorm2d(128, eps=1e-05, momentum=0.1, affine=True, track_running_stats=True)\n",
       "    (17): Conv2d(128, 128, kernel_size=(3, 3), stride=(1, 1), padding=(1, 1))\n",
       "    (18): ReLU()\n",
       "    (19): BatchNorm2d(128, eps=1e-05, momentum=0.1, affine=True, track_running_stats=True)\n",
       "    (20): MaxPool2d(kernel_size=2, stride=2, padding=0, dilation=1, ceil_mode=False)\n",
       "    (21): Conv2d(128, 256, kernel_size=(3, 3), stride=(1, 1), padding=(1, 1))\n",
       "    (22): ReLU()\n",
       "    (23): BatchNorm2d(256, eps=1e-05, momentum=0.1, affine=True, track_running_stats=True)\n",
       "    (24): Conv2d(256, 256, kernel_size=(3, 3), stride=(1, 1), padding=(1, 1))\n",
       "    (25): ReLU()\n",
       "    (26): BatchNorm2d(256, eps=1e-05, momentum=0.1, affine=True, track_running_stats=True)\n",
       "    (27): MaxPool2d(kernel_size=2, stride=2, padding=0, dilation=1, ceil_mode=False)\n",
       "  )\n",
       "  (dense_layers): Sequential(\n",
       "    (0): Dropout(p=0.4, inplace=False)\n",
       "    (1): Linear(in_features=50176, out_features=1024, bias=True)\n",
       "    (2): ReLU()\n",
       "    (3): Dropout(p=0.4, inplace=False)\n",
       "    (4): Linear(in_features=1024, out_features=39, bias=True)\n",
       "  )\n",
       ")"
      ]
     },
     "execution_count": 20,
     "metadata": {},
     "output_type": "execute_result"
    },
    {
     "data": {
      "application/javascript": [
       "\n",
       "            setTimeout(function() {\n",
       "                var nbb_cell_id = 20;\n",
       "                var nbb_unformatted_code = \"model = CNN(targets_size)\\nmodel\";\n",
       "                var nbb_formatted_code = \"model = CNN(targets_size)\\nmodel\";\n",
       "                var nbb_cells = Jupyter.notebook.get_cells();\n",
       "                for (var i = 0; i < nbb_cells.length; ++i) {\n",
       "                    if (nbb_cells[i].input_prompt_number == nbb_cell_id) {\n",
       "                        if (nbb_cells[i].get_text() == nbb_unformatted_code) {\n",
       "                             nbb_cells[i].set_text(nbb_formatted_code);\n",
       "                        }\n",
       "                        break;\n",
       "                    }\n",
       "                }\n",
       "            }, 500);\n",
       "            "
      ],
      "text/plain": [
       "<IPython.core.display.Javascript object>"
      ]
     },
     "metadata": {},
     "output_type": "display_data"
    }
   ],
   "source": [
    "model = CNN(targets_size)\n",
    "model"
   ]
  },
  {
   "cell_type": "code",
   "execution_count": 21,
   "id": "736e4318",
   "metadata": {},
   "outputs": [
    {
     "data": {
      "text/plain": [
       "CNN(\n",
       "  (conv_layers): Sequential(\n",
       "    (0): Conv2d(3, 32, kernel_size=(3, 3), stride=(1, 1), padding=(1, 1))\n",
       "    (1): ReLU()\n",
       "    (2): BatchNorm2d(32, eps=1e-05, momentum=0.1, affine=True, track_running_stats=True)\n",
       "    (3): Conv2d(32, 32, kernel_size=(3, 3), stride=(1, 1), padding=(1, 1))\n",
       "    (4): ReLU()\n",
       "    (5): BatchNorm2d(32, eps=1e-05, momentum=0.1, affine=True, track_running_stats=True)\n",
       "    (6): MaxPool2d(kernel_size=2, stride=2, padding=0, dilation=1, ceil_mode=False)\n",
       "    (7): Conv2d(32, 64, kernel_size=(3, 3), stride=(1, 1), padding=(1, 1))\n",
       "    (8): ReLU()\n",
       "    (9): BatchNorm2d(64, eps=1e-05, momentum=0.1, affine=True, track_running_stats=True)\n",
       "    (10): Conv2d(64, 64, kernel_size=(3, 3), stride=(1, 1), padding=(1, 1))\n",
       "    (11): ReLU()\n",
       "    (12): BatchNorm2d(64, eps=1e-05, momentum=0.1, affine=True, track_running_stats=True)\n",
       "    (13): MaxPool2d(kernel_size=2, stride=2, padding=0, dilation=1, ceil_mode=False)\n",
       "    (14): Conv2d(64, 128, kernel_size=(3, 3), stride=(1, 1), padding=(1, 1))\n",
       "    (15): ReLU()\n",
       "    (16): BatchNorm2d(128, eps=1e-05, momentum=0.1, affine=True, track_running_stats=True)\n",
       "    (17): Conv2d(128, 128, kernel_size=(3, 3), stride=(1, 1), padding=(1, 1))\n",
       "    (18): ReLU()\n",
       "    (19): BatchNorm2d(128, eps=1e-05, momentum=0.1, affine=True, track_running_stats=True)\n",
       "    (20): MaxPool2d(kernel_size=2, stride=2, padding=0, dilation=1, ceil_mode=False)\n",
       "    (21): Conv2d(128, 256, kernel_size=(3, 3), stride=(1, 1), padding=(1, 1))\n",
       "    (22): ReLU()\n",
       "    (23): BatchNorm2d(256, eps=1e-05, momentum=0.1, affine=True, track_running_stats=True)\n",
       "    (24): Conv2d(256, 256, kernel_size=(3, 3), stride=(1, 1), padding=(1, 1))\n",
       "    (25): ReLU()\n",
       "    (26): BatchNorm2d(256, eps=1e-05, momentum=0.1, affine=True, track_running_stats=True)\n",
       "    (27): MaxPool2d(kernel_size=2, stride=2, padding=0, dilation=1, ceil_mode=False)\n",
       "  )\n",
       "  (dense_layers): Sequential(\n",
       "    (0): Dropout(p=0.4, inplace=False)\n",
       "    (1): Linear(in_features=50176, out_features=1024, bias=True)\n",
       "    (2): ReLU()\n",
       "    (3): Dropout(p=0.4, inplace=False)\n",
       "    (4): Linear(in_features=1024, out_features=39, bias=True)\n",
       "  )\n",
       ")"
      ]
     },
     "execution_count": 21,
     "metadata": {},
     "output_type": "execute_result"
    },
    {
     "data": {
      "application/javascript": [
       "\n",
       "            setTimeout(function() {\n",
       "                var nbb_cell_id = 21;\n",
       "                var nbb_unformatted_code = \"model.to(device)\";\n",
       "                var nbb_formatted_code = \"model.to(device)\";\n",
       "                var nbb_cells = Jupyter.notebook.get_cells();\n",
       "                for (var i = 0; i < nbb_cells.length; ++i) {\n",
       "                    if (nbb_cells[i].input_prompt_number == nbb_cell_id) {\n",
       "                        if (nbb_cells[i].get_text() == nbb_unformatted_code) {\n",
       "                             nbb_cells[i].set_text(nbb_formatted_code);\n",
       "                        }\n",
       "                        break;\n",
       "                    }\n",
       "                }\n",
       "            }, 500);\n",
       "            "
      ],
      "text/plain": [
       "<IPython.core.display.Javascript object>"
      ]
     },
     "metadata": {},
     "output_type": "display_data"
    }
   ],
   "source": [
    "model.to(device)"
   ]
  },
  {
   "cell_type": "code",
   "execution_count": 22,
   "id": "522b067a",
   "metadata": {},
   "outputs": [
    {
     "name": "stdout",
     "output_type": "stream",
     "text": [
      "==========================================================================================\n",
      "Layer (type:depth-idx)                   Output Shape              Param #\n",
      "==========================================================================================\n",
      "├─Sequential: 1-1                        [-1, 256, 14, 14]         --\n",
      "|    └─Conv2d: 2-1                       [-1, 32, 224, 224]        896\n",
      "|    └─ReLU: 2-2                         [-1, 32, 224, 224]        --\n",
      "|    └─BatchNorm2d: 2-3                  [-1, 32, 224, 224]        64\n",
      "|    └─Conv2d: 2-4                       [-1, 32, 224, 224]        9,248\n",
      "|    └─ReLU: 2-5                         [-1, 32, 224, 224]        --\n",
      "|    └─BatchNorm2d: 2-6                  [-1, 32, 224, 224]        64\n",
      "|    └─MaxPool2d: 2-7                    [-1, 32, 112, 112]        --\n",
      "|    └─Conv2d: 2-8                       [-1, 64, 112, 112]        18,496\n",
      "|    └─ReLU: 2-9                         [-1, 64, 112, 112]        --\n",
      "|    └─BatchNorm2d: 2-10                 [-1, 64, 112, 112]        128\n",
      "|    └─Conv2d: 2-11                      [-1, 64, 112, 112]        36,928\n",
      "|    └─ReLU: 2-12                        [-1, 64, 112, 112]        --\n",
      "|    └─BatchNorm2d: 2-13                 [-1, 64, 112, 112]        128\n",
      "|    └─MaxPool2d: 2-14                   [-1, 64, 56, 56]          --\n",
      "|    └─Conv2d: 2-15                      [-1, 128, 56, 56]         73,856\n",
      "|    └─ReLU: 2-16                        [-1, 128, 56, 56]         --\n",
      "|    └─BatchNorm2d: 2-17                 [-1, 128, 56, 56]         256\n",
      "|    └─Conv2d: 2-18                      [-1, 128, 56, 56]         147,584\n",
      "|    └─ReLU: 2-19                        [-1, 128, 56, 56]         --\n",
      "|    └─BatchNorm2d: 2-20                 [-1, 128, 56, 56]         256\n",
      "|    └─MaxPool2d: 2-21                   [-1, 128, 28, 28]         --\n",
      "|    └─Conv2d: 2-22                      [-1, 256, 28, 28]         295,168\n",
      "|    └─ReLU: 2-23                        [-1, 256, 28, 28]         --\n",
      "|    └─BatchNorm2d: 2-24                 [-1, 256, 28, 28]         512\n",
      "|    └─Conv2d: 2-25                      [-1, 256, 28, 28]         590,080\n",
      "|    └─ReLU: 2-26                        [-1, 256, 28, 28]         --\n",
      "|    └─BatchNorm2d: 2-27                 [-1, 256, 28, 28]         512\n",
      "|    └─MaxPool2d: 2-28                   [-1, 256, 14, 14]         --\n",
      "├─Sequential: 1-2                        [-1, 39]                  --\n",
      "|    └─Dropout: 2-29                     [-1, 50176]               --\n",
      "|    └─Linear: 2-30                      [-1, 1024]                51,381,248\n",
      "|    └─ReLU: 2-31                        [-1, 1024]                --\n",
      "|    └─Dropout: 2-32                     [-1, 1024]                --\n",
      "|    └─Linear: 2-33                      [-1, 39]                  39,975\n",
      "==========================================================================================\n",
      "Total params: 52,595,399\n",
      "Trainable params: 52,595,399\n",
      "Non-trainable params: 0\n",
      "Total mult-adds (G): 2.69\n",
      "==========================================================================================\n",
      "Input size (MB): 0.57\n",
      "Forward/backward pass size (MB): 91.88\n",
      "Params size (MB): 200.64\n",
      "Estimated Total Size (MB): 293.09\n",
      "==========================================================================================\n"
     ]
    },
    {
     "data": {
      "text/plain": [
       "==========================================================================================\n",
       "Layer (type:depth-idx)                   Output Shape              Param #\n",
       "==========================================================================================\n",
       "├─Sequential: 1-1                        [-1, 256, 14, 14]         --\n",
       "|    └─Conv2d: 2-1                       [-1, 32, 224, 224]        896\n",
       "|    └─ReLU: 2-2                         [-1, 32, 224, 224]        --\n",
       "|    └─BatchNorm2d: 2-3                  [-1, 32, 224, 224]        64\n",
       "|    └─Conv2d: 2-4                       [-1, 32, 224, 224]        9,248\n",
       "|    └─ReLU: 2-5                         [-1, 32, 224, 224]        --\n",
       "|    └─BatchNorm2d: 2-6                  [-1, 32, 224, 224]        64\n",
       "|    └─MaxPool2d: 2-7                    [-1, 32, 112, 112]        --\n",
       "|    └─Conv2d: 2-8                       [-1, 64, 112, 112]        18,496\n",
       "|    └─ReLU: 2-9                         [-1, 64, 112, 112]        --\n",
       "|    └─BatchNorm2d: 2-10                 [-1, 64, 112, 112]        128\n",
       "|    └─Conv2d: 2-11                      [-1, 64, 112, 112]        36,928\n",
       "|    └─ReLU: 2-12                        [-1, 64, 112, 112]        --\n",
       "|    └─BatchNorm2d: 2-13                 [-1, 64, 112, 112]        128\n",
       "|    └─MaxPool2d: 2-14                   [-1, 64, 56, 56]          --\n",
       "|    └─Conv2d: 2-15                      [-1, 128, 56, 56]         73,856\n",
       "|    └─ReLU: 2-16                        [-1, 128, 56, 56]         --\n",
       "|    └─BatchNorm2d: 2-17                 [-1, 128, 56, 56]         256\n",
       "|    └─Conv2d: 2-18                      [-1, 128, 56, 56]         147,584\n",
       "|    └─ReLU: 2-19                        [-1, 128, 56, 56]         --\n",
       "|    └─BatchNorm2d: 2-20                 [-1, 128, 56, 56]         256\n",
       "|    └─MaxPool2d: 2-21                   [-1, 128, 28, 28]         --\n",
       "|    └─Conv2d: 2-22                      [-1, 256, 28, 28]         295,168\n",
       "|    └─ReLU: 2-23                        [-1, 256, 28, 28]         --\n",
       "|    └─BatchNorm2d: 2-24                 [-1, 256, 28, 28]         512\n",
       "|    └─Conv2d: 2-25                      [-1, 256, 28, 28]         590,080\n",
       "|    └─ReLU: 2-26                        [-1, 256, 28, 28]         --\n",
       "|    └─BatchNorm2d: 2-27                 [-1, 256, 28, 28]         512\n",
       "|    └─MaxPool2d: 2-28                   [-1, 256, 14, 14]         --\n",
       "├─Sequential: 1-2                        [-1, 39]                  --\n",
       "|    └─Dropout: 2-29                     [-1, 50176]               --\n",
       "|    └─Linear: 2-30                      [-1, 1024]                51,381,248\n",
       "|    └─ReLU: 2-31                        [-1, 1024]                --\n",
       "|    └─Dropout: 2-32                     [-1, 1024]                --\n",
       "|    └─Linear: 2-33                      [-1, 39]                  39,975\n",
       "==========================================================================================\n",
       "Total params: 52,595,399\n",
       "Trainable params: 52,595,399\n",
       "Non-trainable params: 0\n",
       "Total mult-adds (G): 2.69\n",
       "==========================================================================================\n",
       "Input size (MB): 0.57\n",
       "Forward/backward pass size (MB): 91.88\n",
       "Params size (MB): 200.64\n",
       "Estimated Total Size (MB): 293.09\n",
       "=========================================================================================="
      ]
     },
     "execution_count": 22,
     "metadata": {},
     "output_type": "execute_result"
    },
    {
     "data": {
      "application/javascript": [
       "\n",
       "            setTimeout(function() {\n",
       "                var nbb_cell_id = 22;\n",
       "                var nbb_unformatted_code = \"from torchsummary import summary\\n\\nsummary(model, (3, 224, 224))\";\n",
       "                var nbb_formatted_code = \"from torchsummary import summary\\n\\nsummary(model, (3, 224, 224))\";\n",
       "                var nbb_cells = Jupyter.notebook.get_cells();\n",
       "                for (var i = 0; i < nbb_cells.length; ++i) {\n",
       "                    if (nbb_cells[i].input_prompt_number == nbb_cell_id) {\n",
       "                        if (nbb_cells[i].get_text() == nbb_unformatted_code) {\n",
       "                             nbb_cells[i].set_text(nbb_formatted_code);\n",
       "                        }\n",
       "                        break;\n",
       "                    }\n",
       "                }\n",
       "            }, 500);\n",
       "            "
      ],
      "text/plain": [
       "<IPython.core.display.Javascript object>"
      ]
     },
     "metadata": {},
     "output_type": "display_data"
    }
   ],
   "source": [
    "from torchsummary import summary\n",
    "\n",
    "summary(model, (3, 224, 224))"
   ]
  },
  {
   "cell_type": "code",
   "execution_count": 23,
   "id": "8e52ea14",
   "metadata": {},
   "outputs": [
    {
     "data": {
      "application/javascript": [
       "\n",
       "            setTimeout(function() {\n",
       "                var nbb_cell_id = 23;\n",
       "                var nbb_unformatted_code = \"criterion = nn.CrossEntropyLoss()  # this include softmax + cross entropy loss\\noptimizer = torch.optim.Adam(model.parameters())\";\n",
       "                var nbb_formatted_code = \"criterion = nn.CrossEntropyLoss()  # this include softmax + cross entropy loss\\noptimizer = torch.optim.Adam(model.parameters())\";\n",
       "                var nbb_cells = Jupyter.notebook.get_cells();\n",
       "                for (var i = 0; i < nbb_cells.length; ++i) {\n",
       "                    if (nbb_cells[i].input_prompt_number == nbb_cell_id) {\n",
       "                        if (nbb_cells[i].get_text() == nbb_unformatted_code) {\n",
       "                             nbb_cells[i].set_text(nbb_formatted_code);\n",
       "                        }\n",
       "                        break;\n",
       "                    }\n",
       "                }\n",
       "            }, 500);\n",
       "            "
      ],
      "text/plain": [
       "<IPython.core.display.Javascript object>"
      ]
     },
     "metadata": {},
     "output_type": "display_data"
    }
   ],
   "source": [
    "criterion = nn.CrossEntropyLoss()  # this include softmax + cross entropy loss\n",
    "optimizer = torch.optim.Adam(model.parameters())"
   ]
  },
  {
   "cell_type": "code",
   "execution_count": 29,
   "id": "b9c2f60f",
   "metadata": {},
   "outputs": [
    {
     "data": {
      "application/javascript": [
       "\n",
       "            setTimeout(function() {\n",
       "                var nbb_cell_id = 29;\n",
       "                var nbb_unformatted_code = \"def batch_gd(model, criterion, train_loader, validation_loader, epochs):\\n    train_losses = np.zeros(epochs)\\n    validation_losses = np.zeros(epochs)\\n\\n    for e in range(epochs):\\n        t0 = datetime.now()\\n        train_loss = []\\n        for inputs, targets in train_loader:\\n            inputs, targets = inputs.to(device), targets.to(device)\\n\\n            optimizer.zero_grad()\\n\\n            output = model(inputs)\\n\\n            loss = criterion(output, targets)\\n\\n            train_loss.append(loss.item())  # torch to numpy world\\n\\n            loss.backward()\\n            optimizer.step()\\n\\n        train_loss = np.mean(train_loss)\\n\\n        validation_loss = []\\n\\n        for inputs, targets in validation_loader:\\n\\n            inputs, targets = inputs.to(device), targets.to(device)\\n\\n            output = model(inputs)\\n\\n            loss = criterion(output, targets)\\n\\n            validation_loss.append(loss.item())  # torch to numpy world\\n\\n        validation_loss = np.mean(validation_loss)\\n\\n        train_losses[e] = train_loss\\n        validation_losses[e] = validation_loss\\n\\n        dt = datetime.now() - t0\\n\\n        print(\\n            f\\\"Epoch : {e+1}/{epochs} Train_loss:{train_loss:.3f} Test_loss:{validation_loss:.3f} Duration:{dt}\\\"\\n        )\\n\\n    return train_losses, validation_losses\";\n",
       "                var nbb_formatted_code = \"def batch_gd(model, criterion, train_loader, validation_loader, epochs):\\n    train_losses = np.zeros(epochs)\\n    validation_losses = np.zeros(epochs)\\n\\n    for e in range(epochs):\\n        t0 = datetime.now()\\n        train_loss = []\\n        for inputs, targets in train_loader:\\n            inputs, targets = inputs.to(device), targets.to(device)\\n\\n            optimizer.zero_grad()\\n\\n            output = model(inputs)\\n\\n            loss = criterion(output, targets)\\n\\n            train_loss.append(loss.item())  # torch to numpy world\\n\\n            loss.backward()\\n            optimizer.step()\\n\\n        train_loss = np.mean(train_loss)\\n\\n        validation_loss = []\\n\\n        for inputs, targets in validation_loader:\\n\\n            inputs, targets = inputs.to(device), targets.to(device)\\n\\n            output = model(inputs)\\n\\n            loss = criterion(output, targets)\\n\\n            validation_loss.append(loss.item())  # torch to numpy world\\n\\n        validation_loss = np.mean(validation_loss)\\n\\n        train_losses[e] = train_loss\\n        validation_losses[e] = validation_loss\\n\\n        dt = datetime.now() - t0\\n\\n        print(\\n            f\\\"Epoch : {e+1}/{epochs} Train_loss:{train_loss:.3f} Test_loss:{validation_loss:.3f} Duration:{dt}\\\"\\n        )\\n\\n    return train_losses, validation_losses\";\n",
       "                var nbb_cells = Jupyter.notebook.get_cells();\n",
       "                for (var i = 0; i < nbb_cells.length; ++i) {\n",
       "                    if (nbb_cells[i].input_prompt_number == nbb_cell_id) {\n",
       "                        if (nbb_cells[i].get_text() == nbb_unformatted_code) {\n",
       "                             nbb_cells[i].set_text(nbb_formatted_code);\n",
       "                        }\n",
       "                        break;\n",
       "                    }\n",
       "                }\n",
       "            }, 500);\n",
       "            "
      ],
      "text/plain": [
       "<IPython.core.display.Javascript object>"
      ]
     },
     "metadata": {},
     "output_type": "display_data"
    }
   ],
   "source": [
    "def batch_gd(model, criterion, train_loader, validation_loader, epochs):\n",
    "    train_losses = np.zeros(epochs)\n",
    "    validation_losses = np.zeros(epochs)\n",
    "\n",
    "    for e in range(epochs):\n",
    "        t0 = datetime.now()\n",
    "        train_loss = []\n",
    "        for inputs, targets in train_loader:\n",
    "            inputs, targets = inputs.to(device), targets.to(device)\n",
    "\n",
    "            optimizer.zero_grad()\n",
    "\n",
    "            output = model(inputs)\n",
    "\n",
    "            loss = criterion(output, targets)\n",
    "\n",
    "            train_loss.append(loss.item())  # torch to numpy world\n",
    "\n",
    "            loss.backward()\n",
    "            optimizer.step()\n",
    "\n",
    "        train_loss = np.mean(train_loss)\n",
    "\n",
    "        validation_loss = []\n",
    "\n",
    "        for inputs, targets in validation_loader:\n",
    "\n",
    "            inputs, targets = inputs.to(device), targets.to(device)\n",
    "\n",
    "            output = model(inputs)\n",
    "\n",
    "            loss = criterion(output, targets)\n",
    "\n",
    "            validation_loss.append(loss.item())  # torch to numpy world\n",
    "\n",
    "        validation_loss = np.mean(validation_loss)\n",
    "\n",
    "        train_losses[e] = train_loss\n",
    "        validation_losses[e] = validation_loss\n",
    "\n",
    "        dt = datetime.now() - t0\n",
    "\n",
    "        print(\n",
    "            f\"Epoch : {e+1}/{epochs} Train_loss:{train_loss:.3f} Test_loss:{validation_loss:.3f} Duration:{dt}\"\n",
    "        )\n",
    "\n",
    "    return train_losses, validation_losses"
   ]
  },
  {
   "cell_type": "code",
   "execution_count": 30,
   "id": "4e2305e9",
   "metadata": {},
   "outputs": [
    {
     "data": {
      "application/javascript": [
       "\n",
       "            setTimeout(function() {\n",
       "                var nbb_cell_id = 30;\n",
       "                var nbb_unformatted_code = \"batch_size = 64\\ntrain_loader = torch.utils.data.DataLoader(\\n    dataset, batch_size=batch_size, sampler=train_sampler\\n)\\ntest_loader = torch.utils.data.DataLoader(\\n    dataset, batch_size=batch_size, sampler=test_sampler\\n)\\nvalidation_loader = torch.utils.data.DataLoader(\\n    dataset, batch_size=batch_size, sampler=validation_sampler\\n)\";\n",
       "                var nbb_formatted_code = \"batch_size = 64\\ntrain_loader = torch.utils.data.DataLoader(\\n    dataset, batch_size=batch_size, sampler=train_sampler\\n)\\ntest_loader = torch.utils.data.DataLoader(\\n    dataset, batch_size=batch_size, sampler=test_sampler\\n)\\nvalidation_loader = torch.utils.data.DataLoader(\\n    dataset, batch_size=batch_size, sampler=validation_sampler\\n)\";\n",
       "                var nbb_cells = Jupyter.notebook.get_cells();\n",
       "                for (var i = 0; i < nbb_cells.length; ++i) {\n",
       "                    if (nbb_cells[i].input_prompt_number == nbb_cell_id) {\n",
       "                        if (nbb_cells[i].get_text() == nbb_unformatted_code) {\n",
       "                             nbb_cells[i].set_text(nbb_formatted_code);\n",
       "                        }\n",
       "                        break;\n",
       "                    }\n",
       "                }\n",
       "            }, 500);\n",
       "            "
      ],
      "text/plain": [
       "<IPython.core.display.Javascript object>"
      ]
     },
     "metadata": {},
     "output_type": "display_data"
    }
   ],
   "source": [
    "batch_size = 64\n",
    "train_loader = torch.utils.data.DataLoader(\n",
    "    dataset, batch_size=batch_size, sampler=train_sampler\n",
    ")\n",
    "test_loader = torch.utils.data.DataLoader(\n",
    "    dataset, batch_size=batch_size, sampler=test_sampler\n",
    ")\n",
    "validation_loader = torch.utils.data.DataLoader(\n",
    "    dataset, batch_size=batch_size, sampler=validation_sampler\n",
    ")"
   ]
  },
  {
   "cell_type": "code",
   "execution_count": 31,
   "id": "99a4d8a7",
   "metadata": {},
   "outputs": [
    {
     "name": "stdout",
     "output_type": "stream",
     "text": [
      "Epoch : 1/5 Train_loss:2.356 Test_loss:1.540 Duration:3:04:18.209353\n",
      "Epoch : 2/5 Train_loss:1.350 Test_loss:1.187 Duration:2:49:28.855508\n",
      "Epoch : 3/5 Train_loss:1.069 Test_loss:1.011 Duration:2:42:33.252418\n",
      "Epoch : 4/5 Train_loss:0.910 Test_loss:0.864 Duration:2:58:01.601071\n",
      "Epoch : 5/5 Train_loss:0.756 Test_loss:0.847 Duration:2:59:22.336592\n"
     ]
    },
    {
     "data": {
      "application/javascript": [
       "\n",
       "            setTimeout(function() {\n",
       "                var nbb_cell_id = 31;\n",
       "                var nbb_unformatted_code = \"train_losses, validation_losses = batch_gd(\\n    model, criterion, train_loader, validation_loader, 5\\n)\";\n",
       "                var nbb_formatted_code = \"train_losses, validation_losses = batch_gd(\\n    model, criterion, train_loader, validation_loader, 5\\n)\";\n",
       "                var nbb_cells = Jupyter.notebook.get_cells();\n",
       "                for (var i = 0; i < nbb_cells.length; ++i) {\n",
       "                    if (nbb_cells[i].input_prompt_number == nbb_cell_id) {\n",
       "                        if (nbb_cells[i].get_text() == nbb_unformatted_code) {\n",
       "                             nbb_cells[i].set_text(nbb_formatted_code);\n",
       "                        }\n",
       "                        break;\n",
       "                    }\n",
       "                }\n",
       "            }, 500);\n",
       "            "
      ],
      "text/plain": [
       "<IPython.core.display.Javascript object>"
      ]
     },
     "metadata": {},
     "output_type": "display_data"
    }
   ],
   "source": [
    "train_losses, validation_losses = batch_gd(\n",
    "    model, criterion, train_loader, validation_loader, 5\n",
    ")\n"
   ]
  },
  {
   "cell_type": "code",
   "execution_count": 32,
   "id": "cb599eaa",
   "metadata": {},
   "outputs": [
    {
     "data": {
      "application/javascript": [
       "\n",
       "            setTimeout(function() {\n",
       "                var nbb_cell_id = 32;\n",
       "                var nbb_unformatted_code = \"torch.save(model.state_dict() , 'plant_disease_model_final.pt')\";\n",
       "                var nbb_formatted_code = \"torch.save(model.state_dict(), \\\"plant_disease_model_final.pt\\\")\";\n",
       "                var nbb_cells = Jupyter.notebook.get_cells();\n",
       "                for (var i = 0; i < nbb_cells.length; ++i) {\n",
       "                    if (nbb_cells[i].input_prompt_number == nbb_cell_id) {\n",
       "                        if (nbb_cells[i].get_text() == nbb_unformatted_code) {\n",
       "                             nbb_cells[i].set_text(nbb_formatted_code);\n",
       "                        }\n",
       "                        break;\n",
       "                    }\n",
       "                }\n",
       "            }, 500);\n",
       "            "
      ],
      "text/plain": [
       "<IPython.core.display.Javascript object>"
      ]
     },
     "metadata": {},
     "output_type": "display_data"
    }
   ],
   "source": [
    "torch.save(model.state_dict(), \"plant_disease_model_final.pt\")"
   ]
  },
  {
   "cell_type": "code",
   "execution_count": 35,
   "id": "4b7ea53b",
   "metadata": {},
   "outputs": [
    {
     "data": {
      "text/plain": [
       "CNN(\n",
       "  (conv_layers): Sequential(\n",
       "    (0): Conv2d(3, 32, kernel_size=(3, 3), stride=(1, 1), padding=(1, 1))\n",
       "    (1): ReLU()\n",
       "    (2): BatchNorm2d(32, eps=1e-05, momentum=0.1, affine=True, track_running_stats=True)\n",
       "    (3): Conv2d(32, 32, kernel_size=(3, 3), stride=(1, 1), padding=(1, 1))\n",
       "    (4): ReLU()\n",
       "    (5): BatchNorm2d(32, eps=1e-05, momentum=0.1, affine=True, track_running_stats=True)\n",
       "    (6): MaxPool2d(kernel_size=2, stride=2, padding=0, dilation=1, ceil_mode=False)\n",
       "    (7): Conv2d(32, 64, kernel_size=(3, 3), stride=(1, 1), padding=(1, 1))\n",
       "    (8): ReLU()\n",
       "    (9): BatchNorm2d(64, eps=1e-05, momentum=0.1, affine=True, track_running_stats=True)\n",
       "    (10): Conv2d(64, 64, kernel_size=(3, 3), stride=(1, 1), padding=(1, 1))\n",
       "    (11): ReLU()\n",
       "    (12): BatchNorm2d(64, eps=1e-05, momentum=0.1, affine=True, track_running_stats=True)\n",
       "    (13): MaxPool2d(kernel_size=2, stride=2, padding=0, dilation=1, ceil_mode=False)\n",
       "    (14): Conv2d(64, 128, kernel_size=(3, 3), stride=(1, 1), padding=(1, 1))\n",
       "    (15): ReLU()\n",
       "    (16): BatchNorm2d(128, eps=1e-05, momentum=0.1, affine=True, track_running_stats=True)\n",
       "    (17): Conv2d(128, 128, kernel_size=(3, 3), stride=(1, 1), padding=(1, 1))\n",
       "    (18): ReLU()\n",
       "    (19): BatchNorm2d(128, eps=1e-05, momentum=0.1, affine=True, track_running_stats=True)\n",
       "    (20): MaxPool2d(kernel_size=2, stride=2, padding=0, dilation=1, ceil_mode=False)\n",
       "    (21): Conv2d(128, 256, kernel_size=(3, 3), stride=(1, 1), padding=(1, 1))\n",
       "    (22): ReLU()\n",
       "    (23): BatchNorm2d(256, eps=1e-05, momentum=0.1, affine=True, track_running_stats=True)\n",
       "    (24): Conv2d(256, 256, kernel_size=(3, 3), stride=(1, 1), padding=(1, 1))\n",
       "    (25): ReLU()\n",
       "    (26): BatchNorm2d(256, eps=1e-05, momentum=0.1, affine=True, track_running_stats=True)\n",
       "    (27): MaxPool2d(kernel_size=2, stride=2, padding=0, dilation=1, ceil_mode=False)\n",
       "  )\n",
       "  (dense_layers): Sequential(\n",
       "    (0): Dropout(p=0.4, inplace=False)\n",
       "    (1): Linear(in_features=50176, out_features=1024, bias=True)\n",
       "    (2): ReLU()\n",
       "    (3): Dropout(p=0.4, inplace=False)\n",
       "    (4): Linear(in_features=1024, out_features=39, bias=True)\n",
       "  )\n",
       ")"
      ]
     },
     "execution_count": 35,
     "metadata": {},
     "output_type": "execute_result"
    },
    {
     "data": {
      "application/javascript": [
       "\n",
       "            setTimeout(function() {\n",
       "                var nbb_cell_id = 35;\n",
       "                var nbb_unformatted_code = \"targets_size = 39\\nmodel = CNN(targets_size)\\nmodel.load_state_dict(torch.load(\\\"plant_disease_model_final.pt\\\"))\\nmodel.eval()\";\n",
       "                var nbb_formatted_code = \"targets_size = 39\\nmodel = CNN(targets_size)\\nmodel.load_state_dict(torch.load(\\\"plant_disease_model_final.pt\\\"))\\nmodel.eval()\";\n",
       "                var nbb_cells = Jupyter.notebook.get_cells();\n",
       "                for (var i = 0; i < nbb_cells.length; ++i) {\n",
       "                    if (nbb_cells[i].input_prompt_number == nbb_cell_id) {\n",
       "                        if (nbb_cells[i].get_text() == nbb_unformatted_code) {\n",
       "                             nbb_cells[i].set_text(nbb_formatted_code);\n",
       "                        }\n",
       "                        break;\n",
       "                    }\n",
       "                }\n",
       "            }, 500);\n",
       "            "
      ],
      "text/plain": [
       "<IPython.core.display.Javascript object>"
      ]
     },
     "metadata": {},
     "output_type": "display_data"
    }
   ],
   "source": [
    "targets_size = 39\n",
    "model = CNN(targets_size)\n",
    "model.load_state_dict(torch.load(\"plant_disease_model_final.pt\"))\n",
    "model.eval()"
   ]
  },
  {
   "cell_type": "code",
   "execution_count": 76,
   "id": "16c5ed5a",
   "metadata": {},
   "outputs": [
    {
     "data": {
      "application/javascript": [
       "\n",
       "            setTimeout(function() {\n",
       "                var nbb_cell_id = 76;\n",
       "                var nbb_unformatted_code = \"%matplotlib notebook\";\n",
       "                var nbb_formatted_code = \"%matplotlib notebook\";\n",
       "                var nbb_cells = Jupyter.notebook.get_cells();\n",
       "                for (var i = 0; i < nbb_cells.length; ++i) {\n",
       "                    if (nbb_cells[i].input_prompt_number == nbb_cell_id) {\n",
       "                        if (nbb_cells[i].get_text() == nbb_unformatted_code) {\n",
       "                             nbb_cells[i].set_text(nbb_formatted_code);\n",
       "                        }\n",
       "                        break;\n",
       "                    }\n",
       "                }\n",
       "            }, 500);\n",
       "            "
      ],
      "text/plain": [
       "<IPython.core.display.Javascript object>"
      ]
     },
     "metadata": {},
     "output_type": "display_data"
    }
   ],
   "source": [
    "%matplotlib notebook"
   ]
  },
  {
   "cell_type": "code",
   "execution_count": 77,
   "id": "b8103ef5",
   "metadata": {},
   "outputs": [
    {
     "data": {
      "application/javascript": [
       "/* Put everything inside the global mpl namespace */\n",
       "/* global mpl */\n",
       "window.mpl = {};\n",
       "\n",
       "mpl.get_websocket_type = function () {\n",
       "    if (typeof WebSocket !== 'undefined') {\n",
       "        return WebSocket;\n",
       "    } else if (typeof MozWebSocket !== 'undefined') {\n",
       "        return MozWebSocket;\n",
       "    } else {\n",
       "        alert(\n",
       "            'Your browser does not have WebSocket support. ' +\n",
       "                'Please try Chrome, Safari or Firefox ≥ 6. ' +\n",
       "                'Firefox 4 and 5 are also supported but you ' +\n",
       "                'have to enable WebSockets in about:config.'\n",
       "        );\n",
       "    }\n",
       "};\n",
       "\n",
       "mpl.figure = function (figure_id, websocket, ondownload, parent_element) {\n",
       "    this.id = figure_id;\n",
       "\n",
       "    this.ws = websocket;\n",
       "\n",
       "    this.supports_binary = this.ws.binaryType !== undefined;\n",
       "\n",
       "    if (!this.supports_binary) {\n",
       "        var warnings = document.getElementById('mpl-warnings');\n",
       "        if (warnings) {\n",
       "            warnings.style.display = 'block';\n",
       "            warnings.textContent =\n",
       "                'This browser does not support binary websocket messages. ' +\n",
       "                'Performance may be slow.';\n",
       "        }\n",
       "    }\n",
       "\n",
       "    this.imageObj = new Image();\n",
       "\n",
       "    this.context = undefined;\n",
       "    this.message = undefined;\n",
       "    this.canvas = undefined;\n",
       "    this.rubberband_canvas = undefined;\n",
       "    this.rubberband_context = undefined;\n",
       "    this.format_dropdown = undefined;\n",
       "\n",
       "    this.image_mode = 'full';\n",
       "\n",
       "    this.root = document.createElement('div');\n",
       "    this.root.setAttribute('style', 'display: inline-block');\n",
       "    this._root_extra_style(this.root);\n",
       "\n",
       "    parent_element.appendChild(this.root);\n",
       "\n",
       "    this._init_header(this);\n",
       "    this._init_canvas(this);\n",
       "    this._init_toolbar(this);\n",
       "\n",
       "    var fig = this;\n",
       "\n",
       "    this.waiting = false;\n",
       "\n",
       "    this.ws.onopen = function () {\n",
       "        fig.send_message('supports_binary', { value: fig.supports_binary });\n",
       "        fig.send_message('send_image_mode', {});\n",
       "        if (fig.ratio !== 1) {\n",
       "            fig.send_message('set_device_pixel_ratio', {\n",
       "                device_pixel_ratio: fig.ratio,\n",
       "            });\n",
       "        }\n",
       "        fig.send_message('refresh', {});\n",
       "    };\n",
       "\n",
       "    this.imageObj.onload = function () {\n",
       "        if (fig.image_mode === 'full') {\n",
       "            // Full images could contain transparency (where diff images\n",
       "            // almost always do), so we need to clear the canvas so that\n",
       "            // there is no ghosting.\n",
       "            fig.context.clearRect(0, 0, fig.canvas.width, fig.canvas.height);\n",
       "        }\n",
       "        fig.context.drawImage(fig.imageObj, 0, 0);\n",
       "    };\n",
       "\n",
       "    this.imageObj.onunload = function () {\n",
       "        fig.ws.close();\n",
       "    };\n",
       "\n",
       "    this.ws.onmessage = this._make_on_message_function(this);\n",
       "\n",
       "    this.ondownload = ondownload;\n",
       "};\n",
       "\n",
       "mpl.figure.prototype._init_header = function () {\n",
       "    var titlebar = document.createElement('div');\n",
       "    titlebar.classList =\n",
       "        'ui-dialog-titlebar ui-widget-header ui-corner-all ui-helper-clearfix';\n",
       "    var titletext = document.createElement('div');\n",
       "    titletext.classList = 'ui-dialog-title';\n",
       "    titletext.setAttribute(\n",
       "        'style',\n",
       "        'width: 100%; text-align: center; padding: 3px;'\n",
       "    );\n",
       "    titlebar.appendChild(titletext);\n",
       "    this.root.appendChild(titlebar);\n",
       "    this.header = titletext;\n",
       "};\n",
       "\n",
       "mpl.figure.prototype._canvas_extra_style = function (_canvas_div) {};\n",
       "\n",
       "mpl.figure.prototype._root_extra_style = function (_canvas_div) {};\n",
       "\n",
       "mpl.figure.prototype._init_canvas = function () {\n",
       "    var fig = this;\n",
       "\n",
       "    var canvas_div = (this.canvas_div = document.createElement('div'));\n",
       "    canvas_div.setAttribute(\n",
       "        'style',\n",
       "        'border: 1px solid #ddd;' +\n",
       "            'box-sizing: content-box;' +\n",
       "            'clear: both;' +\n",
       "            'min-height: 1px;' +\n",
       "            'min-width: 1px;' +\n",
       "            'outline: 0;' +\n",
       "            'overflow: hidden;' +\n",
       "            'position: relative;' +\n",
       "            'resize: both;'\n",
       "    );\n",
       "\n",
       "    function on_keyboard_event_closure(name) {\n",
       "        return function (event) {\n",
       "            return fig.key_event(event, name);\n",
       "        };\n",
       "    }\n",
       "\n",
       "    canvas_div.addEventListener(\n",
       "        'keydown',\n",
       "        on_keyboard_event_closure('key_press')\n",
       "    );\n",
       "    canvas_div.addEventListener(\n",
       "        'keyup',\n",
       "        on_keyboard_event_closure('key_release')\n",
       "    );\n",
       "\n",
       "    this._canvas_extra_style(canvas_div);\n",
       "    this.root.appendChild(canvas_div);\n",
       "\n",
       "    var canvas = (this.canvas = document.createElement('canvas'));\n",
       "    canvas.classList.add('mpl-canvas');\n",
       "    canvas.setAttribute('style', 'box-sizing: content-box;');\n",
       "\n",
       "    this.context = canvas.getContext('2d');\n",
       "\n",
       "    var backingStore =\n",
       "        this.context.backingStorePixelRatio ||\n",
       "        this.context.webkitBackingStorePixelRatio ||\n",
       "        this.context.mozBackingStorePixelRatio ||\n",
       "        this.context.msBackingStorePixelRatio ||\n",
       "        this.context.oBackingStorePixelRatio ||\n",
       "        this.context.backingStorePixelRatio ||\n",
       "        1;\n",
       "\n",
       "    this.ratio = (window.devicePixelRatio || 1) / backingStore;\n",
       "\n",
       "    var rubberband_canvas = (this.rubberband_canvas = document.createElement(\n",
       "        'canvas'\n",
       "    ));\n",
       "    rubberband_canvas.setAttribute(\n",
       "        'style',\n",
       "        'box-sizing: content-box; position: absolute; left: 0; top: 0; z-index: 1;'\n",
       "    );\n",
       "\n",
       "    // Apply a ponyfill if ResizeObserver is not implemented by browser.\n",
       "    if (this.ResizeObserver === undefined) {\n",
       "        if (window.ResizeObserver !== undefined) {\n",
       "            this.ResizeObserver = window.ResizeObserver;\n",
       "        } else {\n",
       "            var obs = _JSXTOOLS_RESIZE_OBSERVER({});\n",
       "            this.ResizeObserver = obs.ResizeObserver;\n",
       "        }\n",
       "    }\n",
       "\n",
       "    this.resizeObserverInstance = new this.ResizeObserver(function (entries) {\n",
       "        var nentries = entries.length;\n",
       "        for (var i = 0; i < nentries; i++) {\n",
       "            var entry = entries[i];\n",
       "            var width, height;\n",
       "            if (entry.contentBoxSize) {\n",
       "                if (entry.contentBoxSize instanceof Array) {\n",
       "                    // Chrome 84 implements new version of spec.\n",
       "                    width = entry.contentBoxSize[0].inlineSize;\n",
       "                    height = entry.contentBoxSize[0].blockSize;\n",
       "                } else {\n",
       "                    // Firefox implements old version of spec.\n",
       "                    width = entry.contentBoxSize.inlineSize;\n",
       "                    height = entry.contentBoxSize.blockSize;\n",
       "                }\n",
       "            } else {\n",
       "                // Chrome <84 implements even older version of spec.\n",
       "                width = entry.contentRect.width;\n",
       "                height = entry.contentRect.height;\n",
       "            }\n",
       "\n",
       "            // Keep the size of the canvas and rubber band canvas in sync with\n",
       "            // the canvas container.\n",
       "            if (entry.devicePixelContentBoxSize) {\n",
       "                // Chrome 84 implements new version of spec.\n",
       "                canvas.setAttribute(\n",
       "                    'width',\n",
       "                    entry.devicePixelContentBoxSize[0].inlineSize\n",
       "                );\n",
       "                canvas.setAttribute(\n",
       "                    'height',\n",
       "                    entry.devicePixelContentBoxSize[0].blockSize\n",
       "                );\n",
       "            } else {\n",
       "                canvas.setAttribute('width', width * fig.ratio);\n",
       "                canvas.setAttribute('height', height * fig.ratio);\n",
       "            }\n",
       "            canvas.setAttribute(\n",
       "                'style',\n",
       "                'width: ' + width + 'px; height: ' + height + 'px;'\n",
       "            );\n",
       "\n",
       "            rubberband_canvas.setAttribute('width', width);\n",
       "            rubberband_canvas.setAttribute('height', height);\n",
       "\n",
       "            // And update the size in Python. We ignore the initial 0/0 size\n",
       "            // that occurs as the element is placed into the DOM, which should\n",
       "            // otherwise not happen due to the minimum size styling.\n",
       "            if (fig.ws.readyState == 1 && width != 0 && height != 0) {\n",
       "                fig.request_resize(width, height);\n",
       "            }\n",
       "        }\n",
       "    });\n",
       "    this.resizeObserverInstance.observe(canvas_div);\n",
       "\n",
       "    function on_mouse_event_closure(name) {\n",
       "        return function (event) {\n",
       "            return fig.mouse_event(event, name);\n",
       "        };\n",
       "    }\n",
       "\n",
       "    rubberband_canvas.addEventListener(\n",
       "        'mousedown',\n",
       "        on_mouse_event_closure('button_press')\n",
       "    );\n",
       "    rubberband_canvas.addEventListener(\n",
       "        'mouseup',\n",
       "        on_mouse_event_closure('button_release')\n",
       "    );\n",
       "    rubberband_canvas.addEventListener(\n",
       "        'dblclick',\n",
       "        on_mouse_event_closure('dblclick')\n",
       "    );\n",
       "    // Throttle sequential mouse events to 1 every 20ms.\n",
       "    rubberband_canvas.addEventListener(\n",
       "        'mousemove',\n",
       "        on_mouse_event_closure('motion_notify')\n",
       "    );\n",
       "\n",
       "    rubberband_canvas.addEventListener(\n",
       "        'mouseenter',\n",
       "        on_mouse_event_closure('figure_enter')\n",
       "    );\n",
       "    rubberband_canvas.addEventListener(\n",
       "        'mouseleave',\n",
       "        on_mouse_event_closure('figure_leave')\n",
       "    );\n",
       "\n",
       "    canvas_div.addEventListener('wheel', function (event) {\n",
       "        if (event.deltaY < 0) {\n",
       "            event.step = 1;\n",
       "        } else {\n",
       "            event.step = -1;\n",
       "        }\n",
       "        on_mouse_event_closure('scroll')(event);\n",
       "    });\n",
       "\n",
       "    canvas_div.appendChild(canvas);\n",
       "    canvas_div.appendChild(rubberband_canvas);\n",
       "\n",
       "    this.rubberband_context = rubberband_canvas.getContext('2d');\n",
       "    this.rubberband_context.strokeStyle = '#000000';\n",
       "\n",
       "    this._resize_canvas = function (width, height, forward) {\n",
       "        if (forward) {\n",
       "            canvas_div.style.width = width + 'px';\n",
       "            canvas_div.style.height = height + 'px';\n",
       "        }\n",
       "    };\n",
       "\n",
       "    // Disable right mouse context menu.\n",
       "    this.rubberband_canvas.addEventListener('contextmenu', function (_e) {\n",
       "        event.preventDefault();\n",
       "        return false;\n",
       "    });\n",
       "\n",
       "    function set_focus() {\n",
       "        canvas.focus();\n",
       "        canvas_div.focus();\n",
       "    }\n",
       "\n",
       "    window.setTimeout(set_focus, 100);\n",
       "};\n",
       "\n",
       "mpl.figure.prototype._init_toolbar = function () {\n",
       "    var fig = this;\n",
       "\n",
       "    var toolbar = document.createElement('div');\n",
       "    toolbar.classList = 'mpl-toolbar';\n",
       "    this.root.appendChild(toolbar);\n",
       "\n",
       "    function on_click_closure(name) {\n",
       "        return function (_event) {\n",
       "            return fig.toolbar_button_onclick(name);\n",
       "        };\n",
       "    }\n",
       "\n",
       "    function on_mouseover_closure(tooltip) {\n",
       "        return function (event) {\n",
       "            if (!event.currentTarget.disabled) {\n",
       "                return fig.toolbar_button_onmouseover(tooltip);\n",
       "            }\n",
       "        };\n",
       "    }\n",
       "\n",
       "    fig.buttons = {};\n",
       "    var buttonGroup = document.createElement('div');\n",
       "    buttonGroup.classList = 'mpl-button-group';\n",
       "    for (var toolbar_ind in mpl.toolbar_items) {\n",
       "        var name = mpl.toolbar_items[toolbar_ind][0];\n",
       "        var tooltip = mpl.toolbar_items[toolbar_ind][1];\n",
       "        var image = mpl.toolbar_items[toolbar_ind][2];\n",
       "        var method_name = mpl.toolbar_items[toolbar_ind][3];\n",
       "\n",
       "        if (!name) {\n",
       "            /* Instead of a spacer, we start a new button group. */\n",
       "            if (buttonGroup.hasChildNodes()) {\n",
       "                toolbar.appendChild(buttonGroup);\n",
       "            }\n",
       "            buttonGroup = document.createElement('div');\n",
       "            buttonGroup.classList = 'mpl-button-group';\n",
       "            continue;\n",
       "        }\n",
       "\n",
       "        var button = (fig.buttons[name] = document.createElement('button'));\n",
       "        button.classList = 'mpl-widget';\n",
       "        button.setAttribute('role', 'button');\n",
       "        button.setAttribute('aria-disabled', 'false');\n",
       "        button.addEventListener('click', on_click_closure(method_name));\n",
       "        button.addEventListener('mouseover', on_mouseover_closure(tooltip));\n",
       "\n",
       "        var icon_img = document.createElement('img');\n",
       "        icon_img.src = '_images/' + image + '.png';\n",
       "        icon_img.srcset = '_images/' + image + '_large.png 2x';\n",
       "        icon_img.alt = tooltip;\n",
       "        button.appendChild(icon_img);\n",
       "\n",
       "        buttonGroup.appendChild(button);\n",
       "    }\n",
       "\n",
       "    if (buttonGroup.hasChildNodes()) {\n",
       "        toolbar.appendChild(buttonGroup);\n",
       "    }\n",
       "\n",
       "    var fmt_picker = document.createElement('select');\n",
       "    fmt_picker.classList = 'mpl-widget';\n",
       "    toolbar.appendChild(fmt_picker);\n",
       "    this.format_dropdown = fmt_picker;\n",
       "\n",
       "    for (var ind in mpl.extensions) {\n",
       "        var fmt = mpl.extensions[ind];\n",
       "        var option = document.createElement('option');\n",
       "        option.selected = fmt === mpl.default_extension;\n",
       "        option.innerHTML = fmt;\n",
       "        fmt_picker.appendChild(option);\n",
       "    }\n",
       "\n",
       "    var status_bar = document.createElement('span');\n",
       "    status_bar.classList = 'mpl-message';\n",
       "    toolbar.appendChild(status_bar);\n",
       "    this.message = status_bar;\n",
       "};\n",
       "\n",
       "mpl.figure.prototype.request_resize = function (x_pixels, y_pixels) {\n",
       "    // Request matplotlib to resize the figure. Matplotlib will then trigger a resize in the client,\n",
       "    // which will in turn request a refresh of the image.\n",
       "    this.send_message('resize', { width: x_pixels, height: y_pixels });\n",
       "};\n",
       "\n",
       "mpl.figure.prototype.send_message = function (type, properties) {\n",
       "    properties['type'] = type;\n",
       "    properties['figure_id'] = this.id;\n",
       "    this.ws.send(JSON.stringify(properties));\n",
       "};\n",
       "\n",
       "mpl.figure.prototype.send_draw_message = function () {\n",
       "    if (!this.waiting) {\n",
       "        this.waiting = true;\n",
       "        this.ws.send(JSON.stringify({ type: 'draw', figure_id: this.id }));\n",
       "    }\n",
       "};\n",
       "\n",
       "mpl.figure.prototype.handle_save = function (fig, _msg) {\n",
       "    var format_dropdown = fig.format_dropdown;\n",
       "    var format = format_dropdown.options[format_dropdown.selectedIndex].value;\n",
       "    fig.ondownload(fig, format);\n",
       "};\n",
       "\n",
       "mpl.figure.prototype.handle_resize = function (fig, msg) {\n",
       "    var size = msg['size'];\n",
       "    if (size[0] !== fig.canvas.width || size[1] !== fig.canvas.height) {\n",
       "        fig._resize_canvas(size[0], size[1], msg['forward']);\n",
       "        fig.send_message('refresh', {});\n",
       "    }\n",
       "};\n",
       "\n",
       "mpl.figure.prototype.handle_rubberband = function (fig, msg) {\n",
       "    var x0 = msg['x0'] / fig.ratio;\n",
       "    var y0 = (fig.canvas.height - msg['y0']) / fig.ratio;\n",
       "    var x1 = msg['x1'] / fig.ratio;\n",
       "    var y1 = (fig.canvas.height - msg['y1']) / fig.ratio;\n",
       "    x0 = Math.floor(x0) + 0.5;\n",
       "    y0 = Math.floor(y0) + 0.5;\n",
       "    x1 = Math.floor(x1) + 0.5;\n",
       "    y1 = Math.floor(y1) + 0.5;\n",
       "    var min_x = Math.min(x0, x1);\n",
       "    var min_y = Math.min(y0, y1);\n",
       "    var width = Math.abs(x1 - x0);\n",
       "    var height = Math.abs(y1 - y0);\n",
       "\n",
       "    fig.rubberband_context.clearRect(\n",
       "        0,\n",
       "        0,\n",
       "        fig.canvas.width / fig.ratio,\n",
       "        fig.canvas.height / fig.ratio\n",
       "    );\n",
       "\n",
       "    fig.rubberband_context.strokeRect(min_x, min_y, width, height);\n",
       "};\n",
       "\n",
       "mpl.figure.prototype.handle_figure_label = function (fig, msg) {\n",
       "    // Updates the figure title.\n",
       "    fig.header.textContent = msg['label'];\n",
       "};\n",
       "\n",
       "mpl.figure.prototype.handle_cursor = function (fig, msg) {\n",
       "    fig.rubberband_canvas.style.cursor = msg['cursor'];\n",
       "};\n",
       "\n",
       "mpl.figure.prototype.handle_message = function (fig, msg) {\n",
       "    fig.message.textContent = msg['message'];\n",
       "};\n",
       "\n",
       "mpl.figure.prototype.handle_draw = function (fig, _msg) {\n",
       "    // Request the server to send over a new figure.\n",
       "    fig.send_draw_message();\n",
       "};\n",
       "\n",
       "mpl.figure.prototype.handle_image_mode = function (fig, msg) {\n",
       "    fig.image_mode = msg['mode'];\n",
       "};\n",
       "\n",
       "mpl.figure.prototype.handle_history_buttons = function (fig, msg) {\n",
       "    for (var key in msg) {\n",
       "        if (!(key in fig.buttons)) {\n",
       "            continue;\n",
       "        }\n",
       "        fig.buttons[key].disabled = !msg[key];\n",
       "        fig.buttons[key].setAttribute('aria-disabled', !msg[key]);\n",
       "    }\n",
       "};\n",
       "\n",
       "mpl.figure.prototype.handle_navigate_mode = function (fig, msg) {\n",
       "    if (msg['mode'] === 'PAN') {\n",
       "        fig.buttons['Pan'].classList.add('active');\n",
       "        fig.buttons['Zoom'].classList.remove('active');\n",
       "    } else if (msg['mode'] === 'ZOOM') {\n",
       "        fig.buttons['Pan'].classList.remove('active');\n",
       "        fig.buttons['Zoom'].classList.add('active');\n",
       "    } else {\n",
       "        fig.buttons['Pan'].classList.remove('active');\n",
       "        fig.buttons['Zoom'].classList.remove('active');\n",
       "    }\n",
       "};\n",
       "\n",
       "mpl.figure.prototype.updated_canvas_event = function () {\n",
       "    // Called whenever the canvas gets updated.\n",
       "    this.send_message('ack', {});\n",
       "};\n",
       "\n",
       "// A function to construct a web socket function for onmessage handling.\n",
       "// Called in the figure constructor.\n",
       "mpl.figure.prototype._make_on_message_function = function (fig) {\n",
       "    return function socket_on_message(evt) {\n",
       "        if (evt.data instanceof Blob) {\n",
       "            var img = evt.data;\n",
       "            if (img.type !== 'image/png') {\n",
       "                /* FIXME: We get \"Resource interpreted as Image but\n",
       "                 * transferred with MIME type text/plain:\" errors on\n",
       "                 * Chrome.  But how to set the MIME type?  It doesn't seem\n",
       "                 * to be part of the websocket stream */\n",
       "                img.type = 'image/png';\n",
       "            }\n",
       "\n",
       "            /* Free the memory for the previous frames */\n",
       "            if (fig.imageObj.src) {\n",
       "                (window.URL || window.webkitURL).revokeObjectURL(\n",
       "                    fig.imageObj.src\n",
       "                );\n",
       "            }\n",
       "\n",
       "            fig.imageObj.src = (window.URL || window.webkitURL).createObjectURL(\n",
       "                img\n",
       "            );\n",
       "            fig.updated_canvas_event();\n",
       "            fig.waiting = false;\n",
       "            return;\n",
       "        } else if (\n",
       "            typeof evt.data === 'string' &&\n",
       "            evt.data.slice(0, 21) === 'data:image/png;base64'\n",
       "        ) {\n",
       "            fig.imageObj.src = evt.data;\n",
       "            fig.updated_canvas_event();\n",
       "            fig.waiting = false;\n",
       "            return;\n",
       "        }\n",
       "\n",
       "        var msg = JSON.parse(evt.data);\n",
       "        var msg_type = msg['type'];\n",
       "\n",
       "        // Call the  \"handle_{type}\" callback, which takes\n",
       "        // the figure and JSON message as its only arguments.\n",
       "        try {\n",
       "            var callback = fig['handle_' + msg_type];\n",
       "        } catch (e) {\n",
       "            console.log(\n",
       "                \"No handler for the '\" + msg_type + \"' message type: \",\n",
       "                msg\n",
       "            );\n",
       "            return;\n",
       "        }\n",
       "\n",
       "        if (callback) {\n",
       "            try {\n",
       "                // console.log(\"Handling '\" + msg_type + \"' message: \", msg);\n",
       "                callback(fig, msg);\n",
       "            } catch (e) {\n",
       "                console.log(\n",
       "                    \"Exception inside the 'handler_\" + msg_type + \"' callback:\",\n",
       "                    e,\n",
       "                    e.stack,\n",
       "                    msg\n",
       "                );\n",
       "            }\n",
       "        }\n",
       "    };\n",
       "};\n",
       "\n",
       "// from https://stackoverflow.com/questions/1114465/getting-mouse-location-in-canvas\n",
       "mpl.findpos = function (e) {\n",
       "    //this section is from http://www.quirksmode.org/js/events_properties.html\n",
       "    var targ;\n",
       "    if (!e) {\n",
       "        e = window.event;\n",
       "    }\n",
       "    if (e.target) {\n",
       "        targ = e.target;\n",
       "    } else if (e.srcElement) {\n",
       "        targ = e.srcElement;\n",
       "    }\n",
       "    if (targ.nodeType === 3) {\n",
       "        // defeat Safari bug\n",
       "        targ = targ.parentNode;\n",
       "    }\n",
       "\n",
       "    // pageX,Y are the mouse positions relative to the document\n",
       "    var boundingRect = targ.getBoundingClientRect();\n",
       "    var x = e.pageX - (boundingRect.left + document.body.scrollLeft);\n",
       "    var y = e.pageY - (boundingRect.top + document.body.scrollTop);\n",
       "\n",
       "    return { x: x, y: y };\n",
       "};\n",
       "\n",
       "/*\n",
       " * return a copy of an object with only non-object keys\n",
       " * we need this to avoid circular references\n",
       " * https://stackoverflow.com/a/24161582/3208463\n",
       " */\n",
       "function simpleKeys(original) {\n",
       "    return Object.keys(original).reduce(function (obj, key) {\n",
       "        if (typeof original[key] !== 'object') {\n",
       "            obj[key] = original[key];\n",
       "        }\n",
       "        return obj;\n",
       "    }, {});\n",
       "}\n",
       "\n",
       "mpl.figure.prototype.mouse_event = function (event, name) {\n",
       "    var canvas_pos = mpl.findpos(event);\n",
       "\n",
       "    if (name === 'button_press') {\n",
       "        this.canvas.focus();\n",
       "        this.canvas_div.focus();\n",
       "    }\n",
       "\n",
       "    var x = canvas_pos.x * this.ratio;\n",
       "    var y = canvas_pos.y * this.ratio;\n",
       "\n",
       "    this.send_message(name, {\n",
       "        x: x,\n",
       "        y: y,\n",
       "        button: event.button,\n",
       "        step: event.step,\n",
       "        guiEvent: simpleKeys(event),\n",
       "    });\n",
       "\n",
       "    /* This prevents the web browser from automatically changing to\n",
       "     * the text insertion cursor when the button is pressed.  We want\n",
       "     * to control all of the cursor setting manually through the\n",
       "     * 'cursor' event from matplotlib */\n",
       "    event.preventDefault();\n",
       "    return false;\n",
       "};\n",
       "\n",
       "mpl.figure.prototype._key_event_extra = function (_event, _name) {\n",
       "    // Handle any extra behaviour associated with a key event\n",
       "};\n",
       "\n",
       "mpl.figure.prototype.key_event = function (event, name) {\n",
       "    // Prevent repeat events\n",
       "    if (name === 'key_press') {\n",
       "        if (event.key === this._key) {\n",
       "            return;\n",
       "        } else {\n",
       "            this._key = event.key;\n",
       "        }\n",
       "    }\n",
       "    if (name === 'key_release') {\n",
       "        this._key = null;\n",
       "    }\n",
       "\n",
       "    var value = '';\n",
       "    if (event.ctrlKey && event.key !== 'Control') {\n",
       "        value += 'ctrl+';\n",
       "    }\n",
       "    else if (event.altKey && event.key !== 'Alt') {\n",
       "        value += 'alt+';\n",
       "    }\n",
       "    else if (event.shiftKey && event.key !== 'Shift') {\n",
       "        value += 'shift+';\n",
       "    }\n",
       "\n",
       "    value += 'k' + event.key;\n",
       "\n",
       "    this._key_event_extra(event, name);\n",
       "\n",
       "    this.send_message(name, { key: value, guiEvent: simpleKeys(event) });\n",
       "    return false;\n",
       "};\n",
       "\n",
       "mpl.figure.prototype.toolbar_button_onclick = function (name) {\n",
       "    if (name === 'download') {\n",
       "        this.handle_save(this, null);\n",
       "    } else {\n",
       "        this.send_message('toolbar_button', { name: name });\n",
       "    }\n",
       "};\n",
       "\n",
       "mpl.figure.prototype.toolbar_button_onmouseover = function (tooltip) {\n",
       "    this.message.textContent = tooltip;\n",
       "};\n",
       "\n",
       "///////////////// REMAINING CONTENT GENERATED BY embed_js.py /////////////////\n",
       "// prettier-ignore\n",
       "var _JSXTOOLS_RESIZE_OBSERVER=function(A){var t,i=new WeakMap,n=new WeakMap,a=new WeakMap,r=new WeakMap,o=new Set;function s(e){if(!(this instanceof s))throw new TypeError(\"Constructor requires 'new' operator\");i.set(this,e)}function h(){throw new TypeError(\"Function is not a constructor\")}function c(e,t,i,n){e=0 in arguments?Number(arguments[0]):0,t=1 in arguments?Number(arguments[1]):0,i=2 in arguments?Number(arguments[2]):0,n=3 in arguments?Number(arguments[3]):0,this.right=(this.x=this.left=e)+(this.width=i),this.bottom=(this.y=this.top=t)+(this.height=n),Object.freeze(this)}function d(){t=requestAnimationFrame(d);var s=new WeakMap,p=new Set;o.forEach((function(t){r.get(t).forEach((function(i){var r=t instanceof window.SVGElement,o=a.get(t),d=r?0:parseFloat(o.paddingTop),f=r?0:parseFloat(o.paddingRight),l=r?0:parseFloat(o.paddingBottom),u=r?0:parseFloat(o.paddingLeft),g=r?0:parseFloat(o.borderTopWidth),m=r?0:parseFloat(o.borderRightWidth),w=r?0:parseFloat(o.borderBottomWidth),b=u+f,F=d+l,v=(r?0:parseFloat(o.borderLeftWidth))+m,W=g+w,y=r?0:t.offsetHeight-W-t.clientHeight,E=r?0:t.offsetWidth-v-t.clientWidth,R=b+v,z=F+W,M=r?t.width:parseFloat(o.width)-R-E,O=r?t.height:parseFloat(o.height)-z-y;if(n.has(t)){var k=n.get(t);if(k[0]===M&&k[1]===O)return}n.set(t,[M,O]);var S=Object.create(h.prototype);S.target=t,S.contentRect=new c(u,d,M,O),s.has(i)||(s.set(i,[]),p.add(i)),s.get(i).push(S)}))})),p.forEach((function(e){i.get(e).call(e,s.get(e),e)}))}return s.prototype.observe=function(i){if(i instanceof window.Element){r.has(i)||(r.set(i,new Set),o.add(i),a.set(i,window.getComputedStyle(i)));var n=r.get(i);n.has(this)||n.add(this),cancelAnimationFrame(t),t=requestAnimationFrame(d)}},s.prototype.unobserve=function(i){if(i instanceof window.Element&&r.has(i)){var n=r.get(i);n.has(this)&&(n.delete(this),n.size||(r.delete(i),o.delete(i))),n.size||r.delete(i),o.size||cancelAnimationFrame(t)}},A.DOMRectReadOnly=c,A.ResizeObserver=s,A.ResizeObserverEntry=h,A}; // eslint-disable-line\n",
       "mpl.toolbar_items = [[\"Home\", \"Reset original view\", \"fa fa-home icon-home\", \"home\"], [\"Back\", \"Back to previous view\", \"fa fa-arrow-left icon-arrow-left\", \"back\"], [\"Forward\", \"Forward to next view\", \"fa fa-arrow-right icon-arrow-right\", \"forward\"], [\"\", \"\", \"\", \"\"], [\"Pan\", \"Left button pans, Right button zooms\\nx/y fixes axis, CTRL fixes aspect\", \"fa fa-arrows icon-move\", \"pan\"], [\"Zoom\", \"Zoom to rectangle\\nx/y fixes axis\", \"fa fa-square-o icon-check-empty\", \"zoom\"], [\"\", \"\", \"\", \"\"], [\"Download\", \"Download plot\", \"fa fa-floppy-o icon-save\", \"download\"]];\n",
       "\n",
       "mpl.extensions = [\"eps\", \"jpeg\", \"pgf\", \"pdf\", \"png\", \"ps\", \"raw\", \"svg\", \"tif\"];\n",
       "\n",
       "mpl.default_extension = \"png\";/* global mpl */\n",
       "\n",
       "var comm_websocket_adapter = function (comm) {\n",
       "    // Create a \"websocket\"-like object which calls the given IPython comm\n",
       "    // object with the appropriate methods. Currently this is a non binary\n",
       "    // socket, so there is still some room for performance tuning.\n",
       "    var ws = {};\n",
       "\n",
       "    ws.binaryType = comm.kernel.ws.binaryType;\n",
       "    ws.readyState = comm.kernel.ws.readyState;\n",
       "    function updateReadyState(_event) {\n",
       "        if (comm.kernel.ws) {\n",
       "            ws.readyState = comm.kernel.ws.readyState;\n",
       "        } else {\n",
       "            ws.readyState = 3; // Closed state.\n",
       "        }\n",
       "    }\n",
       "    comm.kernel.ws.addEventListener('open', updateReadyState);\n",
       "    comm.kernel.ws.addEventListener('close', updateReadyState);\n",
       "    comm.kernel.ws.addEventListener('error', updateReadyState);\n",
       "\n",
       "    ws.close = function () {\n",
       "        comm.close();\n",
       "    };\n",
       "    ws.send = function (m) {\n",
       "        //console.log('sending', m);\n",
       "        comm.send(m);\n",
       "    };\n",
       "    // Register the callback with on_msg.\n",
       "    comm.on_msg(function (msg) {\n",
       "        //console.log('receiving', msg['content']['data'], msg);\n",
       "        var data = msg['content']['data'];\n",
       "        if (data['blob'] !== undefined) {\n",
       "            data = {\n",
       "                data: new Blob(msg['buffers'], { type: data['blob'] }),\n",
       "            };\n",
       "        }\n",
       "        // Pass the mpl event to the overridden (by mpl) onmessage function.\n",
       "        ws.onmessage(data);\n",
       "    });\n",
       "    return ws;\n",
       "};\n",
       "\n",
       "mpl.mpl_figure_comm = function (comm, msg) {\n",
       "    // This is the function which gets called when the mpl process\n",
       "    // starts-up an IPython Comm through the \"matplotlib\" channel.\n",
       "\n",
       "    var id = msg.content.data.id;\n",
       "    // Get hold of the div created by the display call when the Comm\n",
       "    // socket was opened in Python.\n",
       "    var element = document.getElementById(id);\n",
       "    var ws_proxy = comm_websocket_adapter(comm);\n",
       "\n",
       "    function ondownload(figure, _format) {\n",
       "        window.open(figure.canvas.toDataURL());\n",
       "    }\n",
       "\n",
       "    var fig = new mpl.figure(id, ws_proxy, ondownload, element);\n",
       "\n",
       "    // Call onopen now - mpl needs it, as it is assuming we've passed it a real\n",
       "    // web socket which is closed, not our websocket->open comm proxy.\n",
       "    ws_proxy.onopen();\n",
       "\n",
       "    fig.parent_element = element;\n",
       "    fig.cell_info = mpl.find_output_cell(\"<div id='\" + id + \"'></div>\");\n",
       "    if (!fig.cell_info) {\n",
       "        console.error('Failed to find cell for figure', id, fig);\n",
       "        return;\n",
       "    }\n",
       "    fig.cell_info[0].output_area.element.on(\n",
       "        'cleared',\n",
       "        { fig: fig },\n",
       "        fig._remove_fig_handler\n",
       "    );\n",
       "};\n",
       "\n",
       "mpl.figure.prototype.handle_close = function (fig, msg) {\n",
       "    var width = fig.canvas.width / fig.ratio;\n",
       "    fig.cell_info[0].output_area.element.off(\n",
       "        'cleared',\n",
       "        fig._remove_fig_handler\n",
       "    );\n",
       "    fig.resizeObserverInstance.unobserve(fig.canvas_div);\n",
       "\n",
       "    // Update the output cell to use the data from the current canvas.\n",
       "    fig.push_to_output();\n",
       "    var dataURL = fig.canvas.toDataURL();\n",
       "    // Re-enable the keyboard manager in IPython - without this line, in FF,\n",
       "    // the notebook keyboard shortcuts fail.\n",
       "    IPython.keyboard_manager.enable();\n",
       "    fig.parent_element.innerHTML =\n",
       "        '<img src=\"' + dataURL + '\" width=\"' + width + '\">';\n",
       "    fig.close_ws(fig, msg);\n",
       "};\n",
       "\n",
       "mpl.figure.prototype.close_ws = function (fig, msg) {\n",
       "    fig.send_message('closing', msg);\n",
       "    // fig.ws.close()\n",
       "};\n",
       "\n",
       "mpl.figure.prototype.push_to_output = function (_remove_interactive) {\n",
       "    // Turn the data on the canvas into data in the output cell.\n",
       "    var width = this.canvas.width / this.ratio;\n",
       "    var dataURL = this.canvas.toDataURL();\n",
       "    this.cell_info[1]['text/html'] =\n",
       "        '<img src=\"' + dataURL + '\" width=\"' + width + '\">';\n",
       "};\n",
       "\n",
       "mpl.figure.prototype.updated_canvas_event = function () {\n",
       "    // Tell IPython that the notebook contents must change.\n",
       "    IPython.notebook.set_dirty(true);\n",
       "    this.send_message('ack', {});\n",
       "    var fig = this;\n",
       "    // Wait a second, then push the new image to the DOM so\n",
       "    // that it is saved nicely (might be nice to debounce this).\n",
       "    setTimeout(function () {\n",
       "        fig.push_to_output();\n",
       "    }, 1000);\n",
       "};\n",
       "\n",
       "mpl.figure.prototype._init_toolbar = function () {\n",
       "    var fig = this;\n",
       "\n",
       "    var toolbar = document.createElement('div');\n",
       "    toolbar.classList = 'btn-toolbar';\n",
       "    this.root.appendChild(toolbar);\n",
       "\n",
       "    function on_click_closure(name) {\n",
       "        return function (_event) {\n",
       "            return fig.toolbar_button_onclick(name);\n",
       "        };\n",
       "    }\n",
       "\n",
       "    function on_mouseover_closure(tooltip) {\n",
       "        return function (event) {\n",
       "            if (!event.currentTarget.disabled) {\n",
       "                return fig.toolbar_button_onmouseover(tooltip);\n",
       "            }\n",
       "        };\n",
       "    }\n",
       "\n",
       "    fig.buttons = {};\n",
       "    var buttonGroup = document.createElement('div');\n",
       "    buttonGroup.classList = 'btn-group';\n",
       "    var button;\n",
       "    for (var toolbar_ind in mpl.toolbar_items) {\n",
       "        var name = mpl.toolbar_items[toolbar_ind][0];\n",
       "        var tooltip = mpl.toolbar_items[toolbar_ind][1];\n",
       "        var image = mpl.toolbar_items[toolbar_ind][2];\n",
       "        var method_name = mpl.toolbar_items[toolbar_ind][3];\n",
       "\n",
       "        if (!name) {\n",
       "            /* Instead of a spacer, we start a new button group. */\n",
       "            if (buttonGroup.hasChildNodes()) {\n",
       "                toolbar.appendChild(buttonGroup);\n",
       "            }\n",
       "            buttonGroup = document.createElement('div');\n",
       "            buttonGroup.classList = 'btn-group';\n",
       "            continue;\n",
       "        }\n",
       "\n",
       "        button = fig.buttons[name] = document.createElement('button');\n",
       "        button.classList = 'btn btn-default';\n",
       "        button.href = '#';\n",
       "        button.title = name;\n",
       "        button.innerHTML = '<i class=\"fa ' + image + ' fa-lg\"></i>';\n",
       "        button.addEventListener('click', on_click_closure(method_name));\n",
       "        button.addEventListener('mouseover', on_mouseover_closure(tooltip));\n",
       "        buttonGroup.appendChild(button);\n",
       "    }\n",
       "\n",
       "    if (buttonGroup.hasChildNodes()) {\n",
       "        toolbar.appendChild(buttonGroup);\n",
       "    }\n",
       "\n",
       "    // Add the status bar.\n",
       "    var status_bar = document.createElement('span');\n",
       "    status_bar.classList = 'mpl-message pull-right';\n",
       "    toolbar.appendChild(status_bar);\n",
       "    this.message = status_bar;\n",
       "\n",
       "    // Add the close button to the window.\n",
       "    var buttongrp = document.createElement('div');\n",
       "    buttongrp.classList = 'btn-group inline pull-right';\n",
       "    button = document.createElement('button');\n",
       "    button.classList = 'btn btn-mini btn-primary';\n",
       "    button.href = '#';\n",
       "    button.title = 'Stop Interaction';\n",
       "    button.innerHTML = '<i class=\"fa fa-power-off icon-remove icon-large\"></i>';\n",
       "    button.addEventListener('click', function (_evt) {\n",
       "        fig.handle_close(fig, {});\n",
       "    });\n",
       "    button.addEventListener(\n",
       "        'mouseover',\n",
       "        on_mouseover_closure('Stop Interaction')\n",
       "    );\n",
       "    buttongrp.appendChild(button);\n",
       "    var titlebar = this.root.querySelector('.ui-dialog-titlebar');\n",
       "    titlebar.insertBefore(buttongrp, titlebar.firstChild);\n",
       "};\n",
       "\n",
       "mpl.figure.prototype._remove_fig_handler = function (event) {\n",
       "    var fig = event.data.fig;\n",
       "    if (event.target !== this) {\n",
       "        // Ignore bubbled events from children.\n",
       "        return;\n",
       "    }\n",
       "    fig.close_ws(fig, {});\n",
       "};\n",
       "\n",
       "mpl.figure.prototype._root_extra_style = function (el) {\n",
       "    el.style.boxSizing = 'content-box'; // override notebook setting of border-box.\n",
       "};\n",
       "\n",
       "mpl.figure.prototype._canvas_extra_style = function (el) {\n",
       "    // this is important to make the div 'focusable\n",
       "    el.setAttribute('tabindex', 0);\n",
       "    // reach out to IPython and tell the keyboard manager to turn it's self\n",
       "    // off when our div gets focus\n",
       "\n",
       "    // location in version 3\n",
       "    if (IPython.notebook.keyboard_manager) {\n",
       "        IPython.notebook.keyboard_manager.register_events(el);\n",
       "    } else {\n",
       "        // location in version 2\n",
       "        IPython.keyboard_manager.register_events(el);\n",
       "    }\n",
       "};\n",
       "\n",
       "mpl.figure.prototype._key_event_extra = function (event, _name) {\n",
       "    // Check for shift+enter\n",
       "    if (event.shiftKey && event.which === 13) {\n",
       "        this.canvas_div.blur();\n",
       "        // select the cell after this one\n",
       "        var index = IPython.notebook.find_cell_index(this.cell_info[0]);\n",
       "        IPython.notebook.select(index + 1);\n",
       "    }\n",
       "};\n",
       "\n",
       "mpl.figure.prototype.handle_save = function (fig, _msg) {\n",
       "    fig.ondownload(fig, null);\n",
       "};\n",
       "\n",
       "mpl.find_output_cell = function (html_output) {\n",
       "    // Return the cell and output element which can be found *uniquely* in the notebook.\n",
       "    // Note - this is a bit hacky, but it is done because the \"notebook_saving.Notebook\"\n",
       "    // IPython event is triggered only after the cells have been serialised, which for\n",
       "    // our purposes (turning an active figure into a static one), is too late.\n",
       "    var cells = IPython.notebook.get_cells();\n",
       "    var ncells = cells.length;\n",
       "    for (var i = 0; i < ncells; i++) {\n",
       "        var cell = cells[i];\n",
       "        if (cell.cell_type === 'code') {\n",
       "            for (var j = 0; j < cell.output_area.outputs.length; j++) {\n",
       "                var data = cell.output_area.outputs[j];\n",
       "                if (data.data) {\n",
       "                    // IPython >= 3 moved mimebundle to data attribute of output\n",
       "                    data = data.data;\n",
       "                }\n",
       "                if (data['text/html'] === html_output) {\n",
       "                    return [cell, data, j];\n",
       "                }\n",
       "            }\n",
       "        }\n",
       "    }\n",
       "};\n",
       "\n",
       "// Register the function which deals with the matplotlib target/channel.\n",
       "// The kernel may be null if the page has been refreshed.\n",
       "if (IPython.notebook.kernel !== null) {\n",
       "    IPython.notebook.kernel.comm_manager.register_target(\n",
       "        'matplotlib',\n",
       "        mpl.mpl_figure_comm\n",
       "    );\n",
       "}\n"
      ],
      "text/plain": [
       "<IPython.core.display.Javascript object>"
      ]
     },
     "metadata": {},
     "output_type": "display_data"
    },
    {
     "data": {
      "text/html": [
       "<img src=\"data:image/png;base64,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\" width=\"640\">"
      ],
      "text/plain": [
       "<IPython.core.display.HTML object>"
      ]
     },
     "metadata": {},
     "output_type": "display_data"
    },
    {
     "data": {
      "application/javascript": [
       "\n",
       "            setTimeout(function() {\n",
       "                var nbb_cell_id = 77;\n",
       "                var nbb_unformatted_code = \"plt.plot(train_losses, label=\\\"train_loss\\\")\\nplt.plot(validation_losses, label=\\\"validation_loss\\\")\\nplt.xlabel(\\\"No of Epochs\\\")\\nplt.ylabel(\\\"Loss\\\")\\nplt.legend()\\nplt.show()\";\n",
       "                var nbb_formatted_code = \"plt.plot(train_losses, label=\\\"train_loss\\\")\\nplt.plot(validation_losses, label=\\\"validation_loss\\\")\\nplt.xlabel(\\\"No of Epochs\\\")\\nplt.ylabel(\\\"Loss\\\")\\nplt.legend()\\nplt.show()\";\n",
       "                var nbb_cells = Jupyter.notebook.get_cells();\n",
       "                for (var i = 0; i < nbb_cells.length; ++i) {\n",
       "                    if (nbb_cells[i].input_prompt_number == nbb_cell_id) {\n",
       "                        if (nbb_cells[i].get_text() == nbb_unformatted_code) {\n",
       "                             nbb_cells[i].set_text(nbb_formatted_code);\n",
       "                        }\n",
       "                        break;\n",
       "                    }\n",
       "                }\n",
       "            }, 500);\n",
       "            "
      ],
      "text/plain": [
       "<IPython.core.display.Javascript object>"
      ]
     },
     "metadata": {},
     "output_type": "display_data"
    }
   ],
   "source": [
    "plt.plot(train_losses, label=\"train_loss\")\n",
    "plt.plot(validation_losses, label=\"validation_loss\")\n",
    "plt.xlabel(\"No of Epochs\")\n",
    "plt.ylabel(\"Loss\")\n",
    "plt.legend()\n",
    "plt.show()"
   ]
  },
  {
   "cell_type": "code",
   "execution_count": 39,
   "id": "137071ef",
   "metadata": {},
   "outputs": [
    {
     "data": {
      "application/javascript": [
       "\n",
       "            setTimeout(function() {\n",
       "                var nbb_cell_id = 39;\n",
       "                var nbb_unformatted_code = \"def accuracy(loader):\\n    n_correct = 0\\n    n_total = 0\\n\\n    for inputs, targets in loader:\\n        inputs, targets = inputs.to(device), targets.to(device)\\n\\n        outputs = model(inputs)\\n\\n        _, predictions = torch.max(outputs, 1)\\n\\n        n_correct += (predictions == targets).sum().item()\\n        n_total += targets.shape[0]\\n\\n    acc = n_correct / n_total\\n    return acc\";\n",
       "                var nbb_formatted_code = \"def accuracy(loader):\\n    n_correct = 0\\n    n_total = 0\\n\\n    for inputs, targets in loader:\\n        inputs, targets = inputs.to(device), targets.to(device)\\n\\n        outputs = model(inputs)\\n\\n        _, predictions = torch.max(outputs, 1)\\n\\n        n_correct += (predictions == targets).sum().item()\\n        n_total += targets.shape[0]\\n\\n    acc = n_correct / n_total\\n    return acc\";\n",
       "                var nbb_cells = Jupyter.notebook.get_cells();\n",
       "                for (var i = 0; i < nbb_cells.length; ++i) {\n",
       "                    if (nbb_cells[i].input_prompt_number == nbb_cell_id) {\n",
       "                        if (nbb_cells[i].get_text() == nbb_unformatted_code) {\n",
       "                             nbb_cells[i].set_text(nbb_formatted_code);\n",
       "                        }\n",
       "                        break;\n",
       "                    }\n",
       "                }\n",
       "            }, 500);\n",
       "            "
      ],
      "text/plain": [
       "<IPython.core.display.Javascript object>"
      ]
     },
     "metadata": {},
     "output_type": "display_data"
    }
   ],
   "source": [
    "def accuracy(loader):\n",
    "    n_correct = 0\n",
    "    n_total = 0\n",
    "\n",
    "    for inputs, targets in loader:\n",
    "        inputs, targets = inputs.to(device), targets.to(device)\n",
    "\n",
    "        outputs = model(inputs)\n",
    "\n",
    "        _, predictions = torch.max(outputs, 1)\n",
    "\n",
    "        n_correct += (predictions == targets).sum().item()\n",
    "        n_total += targets.shape[0]\n",
    "\n",
    "    acc = n_correct / n_total\n",
    "    return acc"
   ]
  },
  {
   "cell_type": "code",
   "execution_count": 40,
   "id": "c35ed0b4",
   "metadata": {},
   "outputs": [
    {
     "data": {
      "application/javascript": [
       "\n",
       "            setTimeout(function() {\n",
       "                var nbb_cell_id = 40;\n",
       "                var nbb_unformatted_code = \"train_acc = accuracy(train_loader)\\ntest_acc = accuracy(test_loader)\\nvalidation_acc = accuracy(validation_loader)\";\n",
       "                var nbb_formatted_code = \"train_acc = accuracy(train_loader)\\ntest_acc = accuracy(test_loader)\\nvalidation_acc = accuracy(validation_loader)\";\n",
       "                var nbb_cells = Jupyter.notebook.get_cells();\n",
       "                for (var i = 0; i < nbb_cells.length; ++i) {\n",
       "                    if (nbb_cells[i].input_prompt_number == nbb_cell_id) {\n",
       "                        if (nbb_cells[i].get_text() == nbb_unformatted_code) {\n",
       "                             nbb_cells[i].set_text(nbb_formatted_code);\n",
       "                        }\n",
       "                        break;\n",
       "                    }\n",
       "                }\n",
       "            }, 500);\n",
       "            "
      ],
      "text/plain": [
       "<IPython.core.display.Javascript object>"
      ]
     },
     "metadata": {},
     "output_type": "display_data"
    }
   ],
   "source": [
    "train_acc = accuracy(train_loader)\n",
    "test_acc = accuracy(test_loader)\n",
    "validation_acc = accuracy(validation_loader)"
   ]
  },
  {
   "cell_type": "code",
   "execution_count": 41,
   "id": "b3377e73",
   "metadata": {},
   "outputs": [
    {
     "name": "stdout",
     "output_type": "stream",
     "text": [
      "Train Accuracy : 0.8853870544500329\n",
      "Test Accuracy : 0.8574216632332213\n",
      "Validation Accuracy : 0.8580904394412909\n"
     ]
    },
    {
     "data": {
      "application/javascript": [
       "\n",
       "            setTimeout(function() {\n",
       "                var nbb_cell_id = 41;\n",
       "                var nbb_unformatted_code = \"print(\\n    f\\\"Train Accuracy : {train_acc}\\\\nTest Accuracy : {test_acc}\\\\nValidation Accuracy : {validation_acc}\\\"\\n)\";\n",
       "                var nbb_formatted_code = \"print(\\n    f\\\"Train Accuracy : {train_acc}\\\\nTest Accuracy : {test_acc}\\\\nValidation Accuracy : {validation_acc}\\\"\\n)\";\n",
       "                var nbb_cells = Jupyter.notebook.get_cells();\n",
       "                for (var i = 0; i < nbb_cells.length; ++i) {\n",
       "                    if (nbb_cells[i].input_prompt_number == nbb_cell_id) {\n",
       "                        if (nbb_cells[i].get_text() == nbb_unformatted_code) {\n",
       "                             nbb_cells[i].set_text(nbb_formatted_code);\n",
       "                        }\n",
       "                        break;\n",
       "                    }\n",
       "                }\n",
       "            }, 500);\n",
       "            "
      ],
      "text/plain": [
       "<IPython.core.display.Javascript object>"
      ]
     },
     "metadata": {},
     "output_type": "display_data"
    }
   ],
   "source": [
    "print(\n",
    "    f\"Train Accuracy : {train_acc}\\nTest Accuracy : {test_acc}\\nValidation Accuracy : {validation_acc}\"\n",
    ")"
   ]
  },
  {
   "cell_type": "code",
   "execution_count": 42,
   "id": "138bf4a0",
   "metadata": {},
   "outputs": [
    {
     "data": {
      "application/javascript": [
       "\n",
       "            setTimeout(function() {\n",
       "                var nbb_cell_id = 42;\n",
       "                var nbb_unformatted_code = \"transform_index_to_disease = dataset.class_to_idx\";\n",
       "                var nbb_formatted_code = \"transform_index_to_disease = dataset.class_to_idx\";\n",
       "                var nbb_cells = Jupyter.notebook.get_cells();\n",
       "                for (var i = 0; i < nbb_cells.length; ++i) {\n",
       "                    if (nbb_cells[i].input_prompt_number == nbb_cell_id) {\n",
       "                        if (nbb_cells[i].get_text() == nbb_unformatted_code) {\n",
       "                             nbb_cells[i].set_text(nbb_formatted_code);\n",
       "                        }\n",
       "                        break;\n",
       "                    }\n",
       "                }\n",
       "            }, 500);\n",
       "            "
      ],
      "text/plain": [
       "<IPython.core.display.Javascript object>"
      ]
     },
     "metadata": {},
     "output_type": "display_data"
    }
   ],
   "source": [
    "transform_index_to_disease = dataset.class_to_idx"
   ]
  },
  {
   "cell_type": "code",
   "execution_count": 43,
   "id": "4a0b0810",
   "metadata": {},
   "outputs": [
    {
     "data": {
      "application/javascript": [
       "\n",
       "            setTimeout(function() {\n",
       "                var nbb_cell_id = 43;\n",
       "                var nbb_unformatted_code = \"transform_index_to_disease = dict(\\n    [(value, key) for key, value in transform_index_to_disease.items()]\\n) \";\n",
       "                var nbb_formatted_code = \"transform_index_to_disease = dict(\\n    [(value, key) for key, value in transform_index_to_disease.items()]\\n)\";\n",
       "                var nbb_cells = Jupyter.notebook.get_cells();\n",
       "                for (var i = 0; i < nbb_cells.length; ++i) {\n",
       "                    if (nbb_cells[i].input_prompt_number == nbb_cell_id) {\n",
       "                        if (nbb_cells[i].get_text() == nbb_unformatted_code) {\n",
       "                             nbb_cells[i].set_text(nbb_formatted_code);\n",
       "                        }\n",
       "                        break;\n",
       "                    }\n",
       "                }\n",
       "            }, 500);\n",
       "            "
      ],
      "text/plain": [
       "<IPython.core.display.Javascript object>"
      ]
     },
     "metadata": {},
     "output_type": "display_data"
    }
   ],
   "source": [
    "transform_index_to_disease = dict(\n",
    "    [(value, key) for key, value in transform_index_to_disease.items()]\n",
    ")"
   ]
  },
  {
   "cell_type": "code",
   "execution_count": 44,
   "id": "2bb1fa3e",
   "metadata": {},
   "outputs": [
    {
     "data": {
      "application/javascript": [
       "\n",
       "            setTimeout(function() {\n",
       "                var nbb_cell_id = 44;\n",
       "                var nbb_unformatted_code = \"data = pd.read_csv(r\\\"C:\\\\Users\\\\J POORNA CHANDER\\\\Downloads\\\\Plant-Disease-Detection-main\\\\Plant-Disease-Detection-main\\\\Flask Deployed App\\\\disease_info.csv\\\", encoding=\\\"cp1252\\\")\";\n",
       "                var nbb_formatted_code = \"data = pd.read_csv(\\n    r\\\"C:\\\\Users\\\\J POORNA CHANDER\\\\Downloads\\\\Plant-Disease-Detection-main\\\\Plant-Disease-Detection-main\\\\Flask Deployed App\\\\disease_info.csv\\\",\\n    encoding=\\\"cp1252\\\",\\n)\";\n",
       "                var nbb_cells = Jupyter.notebook.get_cells();\n",
       "                for (var i = 0; i < nbb_cells.length; ++i) {\n",
       "                    if (nbb_cells[i].input_prompt_number == nbb_cell_id) {\n",
       "                        if (nbb_cells[i].get_text() == nbb_unformatted_code) {\n",
       "                             nbb_cells[i].set_text(nbb_formatted_code);\n",
       "                        }\n",
       "                        break;\n",
       "                    }\n",
       "                }\n",
       "            }, 500);\n",
       "            "
      ],
      "text/plain": [
       "<IPython.core.display.Javascript object>"
      ]
     },
     "metadata": {},
     "output_type": "display_data"
    }
   ],
   "source": [
    "data = pd.read_csv(\n",
    "    r\"C:\\Users\\J POORNA CHANDER\\Downloads\\Plant-Disease-Detection-main\\Plant-Disease-Detection-main\\Flask Deployed App\\disease_info.csv\",\n",
    "    encoding=\"cp1252\",\n",
    ")"
   ]
  },
  {
   "cell_type": "code",
   "execution_count": 45,
   "id": "dcb24925",
   "metadata": {},
   "outputs": [
    {
     "data": {
      "application/javascript": [
       "\n",
       "            setTimeout(function() {\n",
       "                var nbb_cell_id = 45;\n",
       "                var nbb_unformatted_code = \"from PIL import Image\\nimport torchvision.transforms.functional as TF\";\n",
       "                var nbb_formatted_code = \"from PIL import Image\\nimport torchvision.transforms.functional as TF\";\n",
       "                var nbb_cells = Jupyter.notebook.get_cells();\n",
       "                for (var i = 0; i < nbb_cells.length; ++i) {\n",
       "                    if (nbb_cells[i].input_prompt_number == nbb_cell_id) {\n",
       "                        if (nbb_cells[i].get_text() == nbb_unformatted_code) {\n",
       "                             nbb_cells[i].set_text(nbb_formatted_code);\n",
       "                        }\n",
       "                        break;\n",
       "                    }\n",
       "                }\n",
       "            }, 500);\n",
       "            "
      ],
      "text/plain": [
       "<IPython.core.display.Javascript object>"
      ]
     },
     "metadata": {},
     "output_type": "display_data"
    }
   ],
   "source": [
    "from PIL import Image\n",
    "import torchvision.transforms.functional as TF"
   ]
  },
  {
   "cell_type": "code",
   "execution_count": 46,
   "id": "9c710956",
   "metadata": {},
   "outputs": [
    {
     "data": {
      "application/javascript": [
       "\n",
       "            setTimeout(function() {\n",
       "                var nbb_cell_id = 46;\n",
       "                var nbb_unformatted_code = \"def single_prediction(image_path):\\n    image = Image.open(image_path)\\n    image = image.resize((224, 224))\\n    input_data = TF.to_tensor(image)\\n    input_data = input_data.view((-1, 3, 224, 224))\\n    output = model(input_data)\\n    output = output.detach().numpy()\\n    index = np.argmax(output)\\n    print(\\\"Original : \\\", image_path[12:-4])\\n    pred_csv = data[\\\"disease_name\\\"][index]\\n    print(pred_csv)\";\n",
       "                var nbb_formatted_code = \"def single_prediction(image_path):\\n    image = Image.open(image_path)\\n    image = image.resize((224, 224))\\n    input_data = TF.to_tensor(image)\\n    input_data = input_data.view((-1, 3, 224, 224))\\n    output = model(input_data)\\n    output = output.detach().numpy()\\n    index = np.argmax(output)\\n    print(\\\"Original : \\\", image_path[12:-4])\\n    pred_csv = data[\\\"disease_name\\\"][index]\\n    print(pred_csv)\";\n",
       "                var nbb_cells = Jupyter.notebook.get_cells();\n",
       "                for (var i = 0; i < nbb_cells.length; ++i) {\n",
       "                    if (nbb_cells[i].input_prompt_number == nbb_cell_id) {\n",
       "                        if (nbb_cells[i].get_text() == nbb_unformatted_code) {\n",
       "                             nbb_cells[i].set_text(nbb_formatted_code);\n",
       "                        }\n",
       "                        break;\n",
       "                    }\n",
       "                }\n",
       "            }, 500);\n",
       "            "
      ],
      "text/plain": [
       "<IPython.core.display.Javascript object>"
      ]
     },
     "metadata": {},
     "output_type": "display_data"
    }
   ],
   "source": [
    "def single_prediction(image_path):\n",
    "    image = Image.open(image_path)\n",
    "    image = image.resize((224, 224))\n",
    "    input_data = TF.to_tensor(image)\n",
    "    input_data = input_data.view((-1, 3, 224, 224))\n",
    "    output = model(input_data)\n",
    "    output = output.detach().numpy()\n",
    "    index = np.argmax(output)\n",
    "    print(\"Original : \", image_path[12:-4])\n",
    "    pred_csv = data[\"disease_name\"][index]\n",
    "    print(pred_csv)"
   ]
  },
  {
   "cell_type": "code",
   "execution_count": 50,
   "id": "36a67448",
   "metadata": {},
   "outputs": [
    {
     "name": "stdout",
     "output_type": "stream",
     "text": [
      "Original :  OORNA CHANDER\\Downloads\\Plant-Disease-Detection-main\\Plant-Disease-Detection-main\\test_images\\tomato_septoria_leaf_spot\n",
      "Tomato : Septoria Leaf Spot\n"
     ]
    },
    {
     "data": {
      "application/javascript": [
       "\n",
       "            setTimeout(function() {\n",
       "                var nbb_cell_id = 50;\n",
       "                var nbb_unformatted_code = \"single_prediction(\\n    \\\"C:\\\\\\\\Users\\\\\\\\J POORNA CHANDER\\\\\\\\Downloads\\\\\\\\Plant-Disease-Detection-main\\\\\\\\Plant-Disease-Detection-main\\\\\\\\test_images\\\\\\\\tomato_septoria_leaf_spot.JPG\\\"\\n)\";\n",
       "                var nbb_formatted_code = \"single_prediction(\\n    \\\"C:\\\\\\\\Users\\\\\\\\J POORNA CHANDER\\\\\\\\Downloads\\\\\\\\Plant-Disease-Detection-main\\\\\\\\Plant-Disease-Detection-main\\\\\\\\test_images\\\\\\\\tomato_septoria_leaf_spot.JPG\\\"\\n)\";\n",
       "                var nbb_cells = Jupyter.notebook.get_cells();\n",
       "                for (var i = 0; i < nbb_cells.length; ++i) {\n",
       "                    if (nbb_cells[i].input_prompt_number == nbb_cell_id) {\n",
       "                        if (nbb_cells[i].get_text() == nbb_unformatted_code) {\n",
       "                             nbb_cells[i].set_text(nbb_formatted_code);\n",
       "                        }\n",
       "                        break;\n",
       "                    }\n",
       "                }\n",
       "            }, 500);\n",
       "            "
      ],
      "text/plain": [
       "<IPython.core.display.Javascript object>"
      ]
     },
     "metadata": {},
     "output_type": "display_data"
    }
   ],
   "source": [
    "single_prediction(\n",
    "    \"C:\\\\Users\\\\J POORNA CHANDER\\\\Downloads\\\\Plant-Disease-Detection-main\\\\Plant-Disease-Detection-main\\\\test_images\\\\tomato_septoria_leaf_spot.JPG\"\n",
    ")\n"
   ]
  },
  {
   "cell_type": "code",
   "execution_count": 52,
   "id": "7b7b88b4",
   "metadata": {},
   "outputs": [
    {
     "name": "stdout",
     "output_type": "stream",
     "text": [
      "Original :  OORNA CHANDER\\Downloads\\Plant-Disease-Detection-main\\Plant-Disease-Detection-main\\test_images\\apple_healthy\n",
      "Apple : Healthy\n"
     ]
    },
    {
     "data": {
      "application/javascript": [
       "\n",
       "            setTimeout(function() {\n",
       "                var nbb_cell_id = 52;\n",
       "                var nbb_unformatted_code = \"single_prediction(\\n    \\\"C:\\\\\\\\Users\\\\\\\\J POORNA CHANDER\\\\\\\\Downloads\\\\\\\\Plant-Disease-Detection-main\\\\\\\\Plant-Disease-Detection-main\\\\\\\\test_images\\\\\\\\apple_healthy.JPG\\\"\\n)\";\n",
       "                var nbb_formatted_code = \"single_prediction(\\n    \\\"C:\\\\\\\\Users\\\\\\\\J POORNA CHANDER\\\\\\\\Downloads\\\\\\\\Plant-Disease-Detection-main\\\\\\\\Plant-Disease-Detection-main\\\\\\\\test_images\\\\\\\\apple_healthy.JPG\\\"\\n)\";\n",
       "                var nbb_cells = Jupyter.notebook.get_cells();\n",
       "                for (var i = 0; i < nbb_cells.length; ++i) {\n",
       "                    if (nbb_cells[i].input_prompt_number == nbb_cell_id) {\n",
       "                        if (nbb_cells[i].get_text() == nbb_unformatted_code) {\n",
       "                             nbb_cells[i].set_text(nbb_formatted_code);\n",
       "                        }\n",
       "                        break;\n",
       "                    }\n",
       "                }\n",
       "            }, 500);\n",
       "            "
      ],
      "text/plain": [
       "<IPython.core.display.Javascript object>"
      ]
     },
     "metadata": {},
     "output_type": "display_data"
    }
   ],
   "source": [
    "single_prediction(\n",
    "    \"C:\\\\Users\\\\J POORNA CHANDER\\\\Downloads\\\\Plant-Disease-Detection-main\\\\Plant-Disease-Detection-main\\\\test_images\\\\apple_healthy.JPG\"\n",
    ")\n"
   ]
  },
  {
   "cell_type": "code",
   "execution_count": 54,
   "id": "2f598bb0",
   "metadata": {},
   "outputs": [
    {
     "name": "stdout",
     "output_type": "stream",
     "text": [
      "Original :  OORNA CHANDER\\Downloads\\Plant-Disease-Detection-main\\Plant-Disease-Detection-main\\test_images\\cherry_healthy\n",
      "Cherry : Healthy\n"
     ]
    },
    {
     "data": {
      "application/javascript": [
       "\n",
       "            setTimeout(function() {\n",
       "                var nbb_cell_id = 54;\n",
       "                var nbb_unformatted_code = \"single_prediction(\\n    \\\"C:\\\\\\\\Users\\\\\\\\J POORNA CHANDER\\\\\\\\Downloads\\\\\\\\Plant-Disease-Detection-main\\\\\\\\Plant-Disease-Detection-main\\\\\\\\test_images\\\\\\\\cherry_healthy.JPG\\\"\\n)\";\n",
       "                var nbb_formatted_code = \"single_prediction(\\n    \\\"C:\\\\\\\\Users\\\\\\\\J POORNA CHANDER\\\\\\\\Downloads\\\\\\\\Plant-Disease-Detection-main\\\\\\\\Plant-Disease-Detection-main\\\\\\\\test_images\\\\\\\\cherry_healthy.JPG\\\"\\n)\";\n",
       "                var nbb_cells = Jupyter.notebook.get_cells();\n",
       "                for (var i = 0; i < nbb_cells.length; ++i) {\n",
       "                    if (nbb_cells[i].input_prompt_number == nbb_cell_id) {\n",
       "                        if (nbb_cells[i].get_text() == nbb_unformatted_code) {\n",
       "                             nbb_cells[i].set_text(nbb_formatted_code);\n",
       "                        }\n",
       "                        break;\n",
       "                    }\n",
       "                }\n",
       "            }, 500);\n",
       "            "
      ],
      "text/plain": [
       "<IPython.core.display.Javascript object>"
      ]
     },
     "metadata": {},
     "output_type": "display_data"
    }
   ],
   "source": [
    "single_prediction(\n",
    "    \"C:\\\\Users\\\\J POORNA CHANDER\\\\Downloads\\\\Plant-Disease-Detection-main\\\\Plant-Disease-Detection-main\\\\test_images\\\\cherry_healthy.JPG\"\n",
    ")"
   ]
  },
  {
   "cell_type": "code",
   "execution_count": 55,
   "id": "7a40ad4c",
   "metadata": {},
   "outputs": [
    {
     "name": "stdout",
     "output_type": "stream",
     "text": [
      "Original :  OORNA CHANDER\\Downloads\\Plant-Disease-Detection-main\\Plant-Disease-Detection-main\\test_images\\cherry_powdery_mildew\n",
      "Cherry : Powdery Mildew\n"
     ]
    },
    {
     "data": {
      "application/javascript": [
       "\n",
       "            setTimeout(function() {\n",
       "                var nbb_cell_id = 55;\n",
       "                var nbb_unformatted_code = \"single_prediction(\\n    \\\"C:\\\\\\\\Users\\\\\\\\J POORNA CHANDER\\\\\\\\Downloads\\\\\\\\Plant-Disease-Detection-main\\\\\\\\Plant-Disease-Detection-main\\\\\\\\test_images\\\\\\\\cherry_powdery_mildew.JPG\\\")\";\n",
       "                var nbb_formatted_code = \"single_prediction(\\n    \\\"C:\\\\\\\\Users\\\\\\\\J POORNA CHANDER\\\\\\\\Downloads\\\\\\\\Plant-Disease-Detection-main\\\\\\\\Plant-Disease-Detection-main\\\\\\\\test_images\\\\\\\\cherry_powdery_mildew.JPG\\\"\\n)\";\n",
       "                var nbb_cells = Jupyter.notebook.get_cells();\n",
       "                for (var i = 0; i < nbb_cells.length; ++i) {\n",
       "                    if (nbb_cells[i].input_prompt_number == nbb_cell_id) {\n",
       "                        if (nbb_cells[i].get_text() == nbb_unformatted_code) {\n",
       "                             nbb_cells[i].set_text(nbb_formatted_code);\n",
       "                        }\n",
       "                        break;\n",
       "                    }\n",
       "                }\n",
       "            }, 500);\n",
       "            "
      ],
      "text/plain": [
       "<IPython.core.display.Javascript object>"
      ]
     },
     "metadata": {},
     "output_type": "display_data"
    }
   ],
   "source": [
    "single_prediction(\n",
    "    \"C:\\\\Users\\\\J POORNA CHANDER\\\\Downloads\\\\Plant-Disease-Detection-main\\\\Plant-Disease-Detection-main\\\\test_images\\\\cherry_powdery_mildew.JPG\"\n",
    ")"
   ]
  },
  {
   "cell_type": "code",
   "execution_count": null,
   "id": "60c88798",
   "metadata": {},
   "outputs": [],
   "source": [
    "\n"
   ]
  },
  {
   "cell_type": "code",
   "execution_count": null,
   "id": "608d68c8",
   "metadata": {},
   "outputs": [],
   "source": []
  },
  {
   "cell_type": "code",
   "execution_count": null,
   "id": "e2b7c0eb",
   "metadata": {},
   "outputs": [],
   "source": []
  },
  {
   "cell_type": "code",
   "execution_count": null,
   "id": "5e31b4b3",
   "metadata": {},
   "outputs": [],
   "source": []
  }
 ],
 "metadata": {
  "kernelspec": {
   "display_name": "Python 3 (ipykernel)",
   "language": "python",
   "name": "python3"
  },
  "language_info": {
   "codemirror_mode": {
    "name": "ipython",
    "version": 3
   },
   "file_extension": ".py",
   "mimetype": "text/x-python",
   "name": "python",
   "nbconvert_exporter": "python",
   "pygments_lexer": "ipython3",
   "version": "3.9.12"
  }
 },
 "nbformat": 4,
 "nbformat_minor": 5
}
